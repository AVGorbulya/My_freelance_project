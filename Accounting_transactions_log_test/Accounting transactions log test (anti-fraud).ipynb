{
 "cells": [
  {
   "cell_type": "markdown",
   "id": "05847f64",
   "metadata": {},
   "source": [
    "# Проект \"Выявление потенциальных фрод транзакций в журнале операций бухгалтерской базы данных\""
   ]
  },
  {
   "cell_type": "markdown",
   "id": "0bf40465",
   "metadata": {
    "toc": true
   },
   "source": [
    "<h1>Содержание<span class=\"tocSkip\"></span></h1>\n",
    "<div class=\"toc\"><ul class=\"toc-item\"><li><span><a href=\"#Цель,-задачи,-описание-источников-данных-и-план-работы\" data-toc-modified-id=\"Цель,-задачи,-описание-источников-данных-и-план-работы-1\"><span class=\"toc-item-num\">1&nbsp;&nbsp;</span>Цель, задачи, описание источников данных и план работы</a></span><ul class=\"toc-item\"><li><span><a href=\"#Цель-проекта\" data-toc-modified-id=\"Цель-проекта-1.1\"><span class=\"toc-item-num\">1.1&nbsp;&nbsp;</span>Цель проекта</a></span></li><li><span><a href=\"#Задачи-проекта\" data-toc-modified-id=\"Задачи-проекта-1.2\"><span class=\"toc-item-num\">1.2&nbsp;&nbsp;</span>Задачи проекта</a></span></li><li><span><a href=\"#Описание-источников-данных\" data-toc-modified-id=\"Описание-источников-данных-1.3\"><span class=\"toc-item-num\">1.3&nbsp;&nbsp;</span>Описание источников данных</a></span></li><li><span><a href=\"#План-работы\" data-toc-modified-id=\"План-работы-1.4\"><span class=\"toc-item-num\">1.4&nbsp;&nbsp;</span>План работы</a></span></li></ul></li><li><span><a href=\"#Загрузка-данных\" data-toc-modified-id=\"Загрузка-данных-2\"><span class=\"toc-item-num\">2&nbsp;&nbsp;</span>Загрузка данных</a></span><ul class=\"toc-item\"><li><span><a href=\"#Загрузка-данных\" data-toc-modified-id=\"Загрузка-данных-2.1\"><span class=\"toc-item-num\">2.1&nbsp;&nbsp;</span>Загрузка данных</a></span></li><li><span><a href=\"#Объявление-общих-функций\" data-toc-modified-id=\"Объявление-общих-функций-2.2\"><span class=\"toc-item-num\">2.2&nbsp;&nbsp;</span>Объявление общих функций</a></span></li><li><span><a href=\"#Предобработка-данных\" data-toc-modified-id=\"Предобработка-данных-2.3\"><span class=\"toc-item-num\">2.3&nbsp;&nbsp;</span>Предобработка данных</a></span><ul class=\"toc-item\"><li><span><a href=\"#Объявление-общих-для-всех-тестов-переменных\" data-toc-modified-id=\"Объявление-общих-для-всех-тестов-переменных-2.3.1\"><span class=\"toc-item-num\">2.3.1&nbsp;&nbsp;</span>Объявление общих для всех тестов переменных</a></span></li><li><span><a href=\"#Удаление-ненужных-колонок-и-корректировка-типов-данных\" data-toc-modified-id=\"Удаление-ненужных-колонок-и-корректировка-типов-данных-2.3.2\"><span class=\"toc-item-num\">2.3.2&nbsp;&nbsp;</span>Удаление ненужных колонок и корректировка типов данных</a></span></li></ul></li></ul></li><li><span><a href=\"#Тестирование\" data-toc-modified-id=\"Тестирование-3\"><span class=\"toc-item-num\">3&nbsp;&nbsp;</span>Тестирование</a></span><ul class=\"toc-item\"><li><span><a href=\"#Тесты-на-целостность-и-баланс-данных-в-журнале\" data-toc-modified-id=\"Тесты-на-целостность-и-баланс-данных-в-журнале-3.1\"><span class=\"toc-item-num\">3.1&nbsp;&nbsp;</span>Тесты на целостность и баланс данных в журнале</a></span><ul class=\"toc-item\"><li><span><a href=\"#Тест-А.-Целостность\" data-toc-modified-id=\"Тест-А.-Целостность-3.1.1\"><span class=\"toc-item-num\">3.1.1&nbsp;&nbsp;</span>Тест А. Целостность</a></span><ul class=\"toc-item\"><li><span><a href=\"#Функция-для-отбора-односторонних-операций\" data-toc-modified-id=\"Функция-для-отбора-односторонних-операций-3.1.1.1\"><span class=\"toc-item-num\">3.1.1.1&nbsp;&nbsp;</span>Функция для отбора односторонних операций</a></span></li><li><span><a href=\"#Сохранение-в-excel\" data-toc-modified-id=\"Сохранение-в-excel-3.1.1.2\"><span class=\"toc-item-num\">3.1.1.2&nbsp;&nbsp;</span>Сохранение в excel</a></span></li></ul></li><li><span><a href=\"#Тест-Б.-Баланс\" data-toc-modified-id=\"Тест-Б.-Баланс-3.1.2\"><span class=\"toc-item-num\">3.1.2&nbsp;&nbsp;</span>Тест Б. Баланс</a></span><ul class=\"toc-item\"><li><span><a href=\"#Сохранение-в-Excel\" data-toc-modified-id=\"Сохранение-в-Excel-3.1.2.1\"><span class=\"toc-item-num\">3.1.2.1&nbsp;&nbsp;</span>Сохранение в Excel</a></span></li></ul></li><li><span><a href=\"#Тест-В.-Полнота\" data-toc-modified-id=\"Тест-В.-Полнота-3.1.3\"><span class=\"toc-item-num\">3.1.3&nbsp;&nbsp;</span>Тест В. Полнота</a></span><ul class=\"toc-item\"><li><span><a href=\"#Загружаем-ОСВ-и-исключаем-лишние-данные\" data-toc-modified-id=\"Загружаем-ОСВ-и-исключаем-лишние-данные-3.1.3.1\"><span class=\"toc-item-num\">3.1.3.1&nbsp;&nbsp;</span>Загружаем ОСВ и исключаем лишние данные</a></span></li><li><span><a href=\"#Получаем-данные-из-ЖП-и-группируем-по-счетам\" data-toc-modified-id=\"Получаем-данные-из-ЖП-и-группируем-по-счетам-3.1.3.2\"><span class=\"toc-item-num\">3.1.3.2&nbsp;&nbsp;</span>Получаем данные из ЖП и группируем по счетам</a></span></li><li><span><a href=\"#Объединяем-ОСВ-и-ЖП-и-рассчитываем-дельту-в-оборотах\" data-toc-modified-id=\"Объединяем-ОСВ-и-ЖП-и-рассчитываем-дельту-в-оборотах-3.1.3.3\"><span class=\"toc-item-num\">3.1.3.3&nbsp;&nbsp;</span>Объединяем ОСВ и ЖП и рассчитываем дельту в оборотах</a></span></li><li><span><a href=\"#Сохранение-в-excel\" data-toc-modified-id=\"Сохранение-в-excel-3.1.3.4\"><span class=\"toc-item-num\">3.1.3.4&nbsp;&nbsp;</span>Сохранение в excel</a></span></li></ul></li></ul></li><li><span><a href=\"#Тесты-по-анализу-отдельных-операций\" data-toc-modified-id=\"Тесты-по-анализу-отдельных-операций-3.2\"><span class=\"toc-item-num\">3.2&nbsp;&nbsp;</span>Тесты по анализу отдельных операций</a></span><ul class=\"toc-item\"><li><span><a href=\"#Г.-Выявление-редких-проводок\" data-toc-modified-id=\"Г.-Выявление-редких-проводок-3.2.1\"><span class=\"toc-item-num\">3.2.1&nbsp;&nbsp;</span>Г. Выявление редких проводок</a></span><ul class=\"toc-item\"><li><span><a href=\"#Функция-для-отбора-редких-проводок\" data-toc-modified-id=\"Функция-для-отбора-редких-проводок-3.2.1.1\"><span class=\"toc-item-num\">3.2.1.1&nbsp;&nbsp;</span>Функция для отбора редких проводок</a></span></li><li><span><a href=\"#Сохранение-в-excel\" data-toc-modified-id=\"Сохранение-в-excel-3.2.1.2\"><span class=\"toc-item-num\">3.2.1.2&nbsp;&nbsp;</span>Сохранение в excel</a></span></li></ul></li><li><span><a href=\"#Тест-Д.-Поиск-по-подозрительными-описанию-операции\" data-toc-modified-id=\"Тест-Д.-Поиск-по-подозрительными-описанию-операции-3.2.2\"><span class=\"toc-item-num\">3.2.2&nbsp;&nbsp;</span>Тест Д. Поиск по подозрительными описанию операции</a></span><ul class=\"toc-item\"><li><span><a href=\"#Поиск-по-подозрительным-словам\" data-toc-modified-id=\"Поиск-по-подозрительным-словам-3.2.2.1\"><span class=\"toc-item-num\">3.2.2.1&nbsp;&nbsp;</span>Поиск по подозрительным словам</a></span></li><li><span><a href=\"#Поиск-операций-без-описания-или-минимальным-описанием\" data-toc-modified-id=\"Поиск-операций-без-описания-или-минимальным-описанием-3.2.2.2\"><span class=\"toc-item-num\">3.2.2.2&nbsp;&nbsp;</span>Поиск операций без описания или минимальным описанием</a></span></li><li><span><a href=\"#Функция-для-выгрузки-операций-с-коротким-или-подозрительным-описанием\" data-toc-modified-id=\"Функция-для-выгрузки-операций-с-коротким-или-подозрительным-описанием-3.2.2.3\"><span class=\"toc-item-num\">3.2.2.3&nbsp;&nbsp;</span>Функция для выгрузки операций с коротким или подозрительным описанием</a></span></li><li><span><a href=\"#Сохранение-в-excel\" data-toc-modified-id=\"Сохранение-в-excel-3.2.2.4\"><span class=\"toc-item-num\">3.2.2.4&nbsp;&nbsp;</span>Сохранение в excel</a></span></li></ul></li><li><span><a href=\"#Тест-Е.-Нерабочие-и-праздничные-дни\" data-toc-modified-id=\"Тест-Е.-Нерабочие-и-праздничные-дни-3.2.3\"><span class=\"toc-item-num\">3.2.3&nbsp;&nbsp;</span>Тест Е. Нерабочие и праздничные дни</a></span><ul class=\"toc-item\"><li><span><a href=\"#Сформируем-списки-нерабочих-и-праздничных-дней-в-2022\" data-toc-modified-id=\"Сформируем-списки-нерабочих-и-праздничных-дней-в-2022-3.2.3.1\"><span class=\"toc-item-num\">3.2.3.1&nbsp;&nbsp;</span>Сформируем списки нерабочих и праздничных дней в 2022</a></span></li><li><span><a href=\"#Сформируем-списки-нерабочих-и-праздничных-дней-в-2023\" data-toc-modified-id=\"Сформируем-списки-нерабочих-и-праздничных-дней-в-2023-3.2.3.2\"><span class=\"toc-item-num\">3.2.3.2&nbsp;&nbsp;</span>Сформируем списки нерабочих и праздничных дней в 2023</a></span></li><li><span><a href=\"#Функция-для-отбора-операций-созданных-в-праздничные-дни-и-внерабочее--время\" data-toc-modified-id=\"Функция-для-отбора-операций-созданных-в-праздничные-дни-и-внерабочее--время-3.2.3.3\"><span class=\"toc-item-num\">3.2.3.3&nbsp;&nbsp;</span>Функция для отбора операций созданных в праздничные дни и внерабочее  время</a></span></li><li><span><a href=\"#Сохранение-в-excel\" data-toc-modified-id=\"Сохранение-в-excel-3.2.3.4\"><span class=\"toc-item-num\">3.2.3.4&nbsp;&nbsp;</span>Сохранение в excel</a></span></li></ul></li><li><span><a href=\"#Тест-Ж.-Операции-выше-порога\" data-toc-modified-id=\"Тест-Ж.-Операции-выше-порога-3.2.4\"><span class=\"toc-item-num\">3.2.4&nbsp;&nbsp;</span>Тест Ж. Операции выше порога</a></span><ul class=\"toc-item\"><li><span><a href=\"#Отбор-операций-по-пороговой-сумме\" data-toc-modified-id=\"Отбор-операций-по-пороговой-сумме-3.2.4.1\"><span class=\"toc-item-num\">3.2.4.1&nbsp;&nbsp;</span>Отбор операций по пороговой сумме</a></span></li><li><span><a href=\"#Сохранение-в-excel\" data-toc-modified-id=\"Сохранение-в-excel-3.2.4.2\"><span class=\"toc-item-num\">3.2.4.2&nbsp;&nbsp;</span>Сохранение в excel</a></span></li></ul></li><li><span><a href=\"#Тест-З.-Операции-с-отрицательными-суммами\" data-toc-modified-id=\"Тест-З.-Операции-с-отрицательными-суммами-3.2.5\"><span class=\"toc-item-num\">3.2.5&nbsp;&nbsp;</span>Тест З. Операции с отрицательными суммами</a></span><ul class=\"toc-item\"><li><span><a href=\"#Сохранение-в-excel\" data-toc-modified-id=\"Сохранение-в-excel-3.2.5.1\"><span class=\"toc-item-num\">3.2.5.1&nbsp;&nbsp;</span>Сохранение в excel</a></span></li></ul></li><li><span><a href=\"#Тест-И.-Поиск-дублей-в--операциях\" data-toc-modified-id=\"Тест-И.-Поиск-дублей-в--операциях-3.2.6\"><span class=\"toc-item-num\">3.2.6&nbsp;&nbsp;</span>Тест И. Поиск дублей в  операциях</a></span><ul class=\"toc-item\"><li><span><a href=\"#Сохранение-в-excel\" data-toc-modified-id=\"Сохранение-в-excel-3.2.6.1\"><span class=\"toc-item-num\">3.2.6.1&nbsp;&nbsp;</span>Сохранение в excel</a></span></li></ul></li><li><span><a href=\"#Тест-К.-Спец-суммы\" data-toc-modified-id=\"Тест-К.-Спец-суммы-3.2.7\"><span class=\"toc-item-num\">3.2.7&nbsp;&nbsp;</span>Тест К. Спец суммы</a></span><ul class=\"toc-item\"><li><span><a href=\"#Сохранение-в-excel\" data-toc-modified-id=\"Сохранение-в-excel-3.2.7.1\"><span class=\"toc-item-num\">3.2.7.1&nbsp;&nbsp;</span>Сохранение в excel</a></span></li></ul></li></ul></li></ul></li><li><span><a href=\"#Выводы\" data-toc-modified-id=\"Выводы-4\"><span class=\"toc-item-num\">4&nbsp;&nbsp;</span>Выводы</a></span></li></ul></div>"
   ]
  },
  {
   "cell_type": "markdown",
   "id": "b449053b",
   "metadata": {},
   "source": [
    "## Цель, задачи, описание источников данных и план работы\n",
    "\n",
    "### Цель проекта\n",
    "\n",
    "    1. Создание механизма выявления потенциальных фрод операций в бухгалтерской базе данных.\n",
    "    2. Тестирование механизма на двух периодах: 2022 и 2023 годах.\n",
    "\n",
    "### Задачи проекта\n",
    "\n",
    "Создать функции для выгрузки из бухгалтерской базы данных - журнала проводок, списка потенциальных фрод-операций и/или расхождений с оборотно-сальдовой ведомостью, удовлетворяющих следующим условиям:\n",
    "            \n",
    "            А. Целостность. Выявить все проводки, где заполнена только одна сторона Дт или Кт.\n",
    "            Б. Баланс. Для каждого субсчета проверить равенство Сальдо на начало +-Обороты = Сальдо конечное. Проверка по оборотно-сальдовой ведомости (ОСВ).\n",
    "            В.Полнота. По каждому субсчету сверить обороты из ОСВ с оборотами в журнале операций.\n",
    "            Г. Редкие проводки. Вывести список проводок, количество которых меньше, чем месяцев в аудируемом периоде.\n",
    "            Д.Проводки с подозрительным описанием, содержащие корни слов: \"жертв\", \"подар\", \"дарен\", \"спонс\", \"ошиб\", а также проводки без описания/с минимальным описанием.\n",
    "            Е. Проводки сформированные во внерабочее время/дни.\n",
    "            Ж. Проводки с суммой выше определенного порога.\n",
    "            З. Проводки с отрицательными значениями.\n",
    "            И. Дублирующие проводки, у которых совпадает: дата, Дт/Кт, вид документа и сумма.\n",
    "            К. Проводки со специфическими суммами, кратными 1 млн. руб., или заканчивающиеся на 999 или 999.99\n"
   ]
  },
  {
   "cell_type": "markdown",
   "id": "6079a3e3",
   "metadata": {},
   "source": [
    "### Описание источников данных\n",
    "\n",
    "    1. Журнал операций за аудируемый период\n",
    "    2. Оборотно-сальдовая ведомость за аудируемый период\n",
    "    3. План-счетов бухгалтерского учета"
   ]
  },
  {
   "cell_type": "markdown",
   "id": "5ca79cba",
   "metadata": {},
   "source": [
    "### План работы"
   ]
  },
  {
   "cell_type": "markdown",
   "id": "6f25280b",
   "metadata": {},
   "source": [
    "    1. Загрузка данных и подготовка общий функций.\n",
    "    \n",
    "    2. Предобработка, в том числе:\n",
    "                                  - объявление общих переменных;\n",
    "                                  - удаление ненужной информации (лишние колонки, строки с пустыми суммами); \n",
    "                                  - исправление типов данных;\n",
    "                                  - создание колонок с дополнительной аналитикой (вид_документа, проводка Dt_Kt);\n",
    "                                  - удаление операций, созданных регламентами  (системными) документами;\n",
    "                                  - заполнение пропусков в аналитике на \"нет_описания\".\n",
    "                                            \n",
    "    \n",
    "    3. Тестирование журнала проводок в соответствии с задачами проекта и подготовка выгрузок.\n",
    "    4. Выводы."
   ]
  },
  {
   "cell_type": "markdown",
   "id": "b559d2fa",
   "metadata": {},
   "source": [
    "## Загрузка данных"
   ]
  },
  {
   "cell_type": "code",
   "execution_count": 502,
   "id": "f3ebef66",
   "metadata": {},
   "outputs": [],
   "source": [
    "import pandas as pd\n",
    "import numpy as np\n",
    "import datetime as dt\n",
    "from datetime import datetime\n",
    "import seaborn as sns\n",
    "import matplotlib.pyplot as plt\n",
    "import math as mth\n",
    "import plotly.graph_objects as go\n",
    "import warnings\n",
    "warnings.filterwarnings(\"ignore\")\n",
    "pd.set_option('display.max_columns', None)\n",
    "pd.set_option('display.max_colwidth', 100)\n",
    "import re"
   ]
  },
  {
   "cell_type": "markdown",
   "id": "bc7334b7",
   "metadata": {},
   "source": [
    "### Загрузка данных"
   ]
  },
  {
   "cell_type": "code",
   "execution_count": 503,
   "id": "3b3da0bf",
   "metadata": {},
   "outputs": [],
   "source": [
    "# Загрузка данных из файла XLSX\n",
    "data_2022 = pd.read_excel(\n",
    "    'C:/Проводки/transaction_2022.xls')\n",
    "data_2023 = pd.read_excel(\n",
    "    'C:/Проводки/transaction_2023.xls')"
   ]
  },
  {
   "cell_type": "code",
   "execution_count": 504,
   "id": "a9852c9d",
   "metadata": {},
   "outputs": [],
   "source": [
    "# план счетов\n",
    "Chart_accounts = pd.read_excel(\n",
    "    'C:/Проводки/План_счетов.xlsx')"
   ]
  },
  {
   "cell_type": "code",
   "execution_count": 505,
   "id": "88d2550a",
   "metadata": {},
   "outputs": [],
   "source": [
    "# оборотно-сальдовая ведеомость\n",
    "OSV_2022 = pd.read_excel(\n",
    "    'C:/Проводки/OSV_2022.xlsx')\n",
    "OSV_2023 = pd.read_excel(\n",
    "    'C:/Проводки/OSV_2023.xlsx')"
   ]
  },
  {
   "cell_type": "code",
   "execution_count": 506,
   "id": "a1c8fc6b",
   "metadata": {
    "scrolled": true
   },
   "outputs": [
    {
     "name": "stdout",
     "output_type": "stream",
     "text": [
      "(31974, 33)\n",
      "(32809, 33)\n",
      "(126, 3)\n",
      "(119, 9)\n",
      "(115, 9)\n"
     ]
    }
   ],
   "source": [
    "print(data_2022.shape)\n",
    "print(data_2023.shape)\n",
    "print(Chart_accounts.shape)\n",
    "print(OSV_2023.shape)\n",
    "print(OSV_2022.shape)"
   ]
  },
  {
   "cell_type": "markdown",
   "id": "b8f029cb",
   "metadata": {},
   "source": [
    "### Объявление общих функций"
   ]
  },
  {
   "cell_type": "code",
   "execution_count": 507,
   "id": "728b012f",
   "metadata": {},
   "outputs": [],
   "source": [
    "# функция для сохранения выходных форм: таблицы транзакций и сгруппированной таблицы транзакций на один листов в файл excel\n",
    "# задаем путь сохранения\n",
    "excel_path_folder = f'C:/Проводки/Output/'\n",
    "\n",
    "# объявляем функцию на вход которой: сгруппированная таблица, таблица транзакций,\n",
    "# название файла excel, название листа excel, год.\n",
    "\n",
    "def save_to_excel(df_df_transaction_group, name_excel_file, year, df_transaction=None):\n",
    "    excel_path = excel_path_folder + f'{name_excel_file}_{year}.xlsx'\n",
    "    # Создаем объект ExcelWriter для записи данных в файл Excel\n",
    "    with pd.ExcelWriter(excel_path) as writer:\n",
    "        # Записываем первую таблицу\n",
    "        df_df_transaction_group.to_excel(\n",
    "            writer, sheet_name=f'{name_excel_file}_{year}', index=False)\n",
    "\n",
    "        # Если df_transaction не равен None, записываем вторую таблицу\n",
    "        if df_transaction is not None:\n",
    "            start_row = df_df_transaction_group.shape[0] + 3\n",
    "            df_transaction.to_excel(\n",
    "                writer, sheet_name=f'{name_excel_file}_{year}', index=False, startrow=start_row)"
   ]
  },
  {
   "cell_type": "code",
   "execution_count": 508,
   "id": "6a566f13",
   "metadata": {},
   "outputs": [],
   "source": [
    "# функция для группировки транзакций и подсчета их количества и суммы\n",
    "# на вход принимает датафрейм с отобранными транзакциями\n",
    "\n",
    "def group_transaction(df):\n",
    "    df_group = df.groupby(\n",
    "        ['Dt_Kt', 'Название_документа', 'Критерий отбора']\n",
    "    ).agg({'Сумма': ['sum', 'count']}).reset_index()\n",
    "\n",
    "    # Переименовываем столбцы\n",
    "    df_group.columns = [\n",
    "        'Dt_Kt', 'Название_документа', 'Критерий отбора', 'Сумма', 'Количество_проводок'\n",
    "    ]\n",
    "\n",
    "    # Добавляем столбец с комментарием\n",
    "    df_group['Комментарий_аудитора'] = 'Необходимо заполнить'\n",
    "\n",
    "    # Сортируем по сумме и названию документа\n",
    "    df_group = df_group.sort_values(\n",
    "        by=['Сумма', 'Название_документа'], ascending=False)\n",
    "\n",
    "    return df_group"
   ]
  },
  {
   "cell_type": "markdown",
   "id": "0e4e54ab",
   "metadata": {},
   "source": [
    "### Предобработка данных"
   ]
  },
  {
   "cell_type": "code",
   "execution_count": 509,
   "id": "b4b65584",
   "metadata": {},
   "outputs": [],
   "source": [
    "# создадим копии данных для работы\n",
    "df2023 = data_2023.copy()\n",
    "df2022 = data_2022.copy()"
   ]
  },
  {
   "cell_type": "markdown",
   "id": "cd9e36c4",
   "metadata": {},
   "source": [
    "#### Объявление общих для всех тестов переменных"
   ]
  },
  {
   "cell_type": "code",
   "execution_count": 510,
   "id": "b53920a5",
   "metadata": {},
   "outputs": [],
   "source": [
    "# установим интервалы нерабочего времени\n",
    "start_time_control = pd.to_datetime('17:00').time()\n",
    "end_time_control = pd.to_datetime('08:00').time()\n",
    "start_time_control_extra = pd.to_datetime('16:00').time() #для сокращенных рабочих дней"
   ]
  },
  {
   "cell_type": "code",
   "execution_count": 511,
   "id": "98d7e155",
   "metadata": {},
   "outputs": [],
   "source": [
    "# пороговая сумма для контроля операций\n",
    "threshold_sum = 7000000"
   ]
  },
  {
   "cell_type": "code",
   "execution_count": 512,
   "id": "8942f5dd",
   "metadata": {},
   "outputs": [
    {
     "name": "stdout",
     "output_type": "stream",
     "text": [
      "(20,)\n",
      "\n",
      "(22,)\n"
     ]
    }
   ],
   "source": [
    "# создадим функцию и выделим названия типовых документов для создания списка документов для исключения из анализа\n",
    "def split_document(x):\n",
    "    return re.split(r' ОЛБП|00ЗК', x)[0]\n",
    "\n",
    "# Apply the function to the 'Документ' column\n",
    "df2022['Название_документа'] = df2022['Документ'].apply(split_document)\n",
    "df2023['Название_документа'] = df2023['Документ'].apply(split_document)\n",
    "# список документов в ЖП\n",
    "docs_names2022 = df2022['Название_документа'].unique()\n",
    "docs_names2023 = df2023['Название_документа'].unique()\n",
    "print(docs_names2022.shape)\n",
    "print()\n",
    "print(docs_names2023.shape)"
   ]
  },
  {
   "cell_type": "code",
   "execution_count": 513,
   "id": "2b40aa10",
   "metadata": {},
   "outputs": [
    {
     "data": {
      "text/plain": [
       "['Регламентная операция', 'Формирование записей книги покупок']"
      ]
     },
     "execution_count": 513,
     "metadata": {},
     "output_type": "execute_result"
    }
   ],
   "source": [
    "# системные документы и проводки, которые не будем анализируем\n",
    "# список документов для исключения из анализа, так как они регламентные\n",
    "selected_indices = [11, 15]\n",
    "exception_reg_documents = [docs_names2022[idx] for idx in selected_indices]\n",
    "exception_reg_documents"
   ]
  },
  {
   "cell_type": "code",
   "execution_count": 514,
   "id": "d9b57db1",
   "metadata": {},
   "outputs": [],
   "source": [
    "# Список ключевых слов для поиска потенциальных фрод-операций\n",
    "fishily_keywords = ['жертв', 'подар', 'дарен', 'спонс', 'ошиб', 'откат', 'взятк', 'безвоз']"
   ]
  },
  {
   "cell_type": "markdown",
   "id": "d72f8212",
   "metadata": {},
   "source": [
    "#### Удаление ненужных колонок и корректировка типов данных"
   ]
  },
  {
   "cell_type": "code",
   "execution_count": 515,
   "id": "940d431b",
   "metadata": {},
   "outputs": [],
   "source": [
    "# Удалим лишние колонки\n",
    "columns_to_drop = ['Уточнение периода', 'Кол.', 'Количество Дт',\n",
    "                   'Валюта Дт', 'Вал. сумма Дт', 'Подразделение Дт', 'Кол..1', 'Количество Кт',\n",
    "                   'Валюта Кт', 'Вал. сумма Кт', 'Подразделение Кт',\n",
    "                   'НУ', 'ПР', 'ВР', 'Сумма НУ Дт', 'Сумма ПР Дт', 'Сумма ВР Дт',\n",
    "                   'Сумма НУ Кт', 'Сумма ПР Кт', 'Сумма ВР Кт']\n",
    "\n",
    "\n",
    "df2023 = df2023.drop(columns=columns_to_drop)\n",
    "df2022 = df2022.drop(columns=columns_to_drop)"
   ]
  },
  {
   "cell_type": "code",
   "execution_count": 516,
   "id": "40638b55",
   "metadata": {},
   "outputs": [],
   "source": [
    "# Удалим строки с нулевыми суммами\n",
    "df2023.dropna(subset=['Сумма'], inplace=True)\n",
    "df2022.dropna(subset=['Сумма'], inplace=True)"
   ]
  },
  {
   "cell_type": "code",
   "execution_count": 517,
   "id": "9e8633dc",
   "metadata": {},
   "outputs": [],
   "source": [
    "# заполнение пропусков в аналитиках техническим  описанием - \"нет описания\", чтобы не пропустить при группировках\n",
    "# Исключаем столбец 'Сумма' из заполнения пропущенных значений\n",
    "columns_to_exclude = ['Счет Дт', 'Счет Кт']\n",
    "columns_to_fillna = [col for col in df2022.columns if col not in columns_to_exclude]\n",
    "\n",
    "# Заполняем пропущенные значения в оставшихся столбцах строкой 'нет_описания'\n",
    "df2022[columns_to_fillna] = df2022[columns_to_fillna].fillna('нет_описания')\n",
    "df2023[columns_to_fillna] = df2023[columns_to_fillna].fillna('нет_описания')"
   ]
  },
  {
   "cell_type": "code",
   "execution_count": 518,
   "id": "000cc193",
   "metadata": {},
   "outputs": [],
   "source": [
    "# Преобразование столбца 'Дата' в тип данных datetime с указанием правильного формата\n",
    "df2022['Дата'] = pd.to_datetime(df2022['Дата'], format=\"%d.%m.%Y %H:%M:%S\")\n",
    "df2023['Дата'] = pd.to_datetime(df2023['Дата'], format=\"%d.%m.%Y %H:%M:%S\")"
   ]
  },
  {
   "cell_type": "code",
   "execution_count": 519,
   "id": "a7ebeba5",
   "metadata": {
    "scrolled": true
   },
   "outputs": [],
   "source": [
    "# добавим техническую колонку Dt_Kt\n",
    "df2022['Dt_Kt'] = df2022.apply(lambda row: str(row['Счет Дт']) + '_' + str(row['Счет Кт']), axis=1)\n",
    "df2023['Dt_Kt'] = df2023.apply(lambda row: str(row['Счет Дт']) + '_' + str(row['Счет Кт']), axis=1)"
   ]
  },
  {
   "cell_type": "code",
   "execution_count": 520,
   "id": "9fdaae07",
   "metadata": {},
   "outputs": [
    {
     "data": {
      "text/plain": [
       "{'Балансовый', 'Забалансовый'}"
      ]
     },
     "execution_count": 520,
     "metadata": {},
     "output_type": "execute_result"
    }
   ],
   "source": [
    "# создадим словарь с типом счетов\n",
    "count_dict = dict(zip(Chart_accounts['Счет'], Chart_accounts['Вид счета']))\n",
    "unique_values = set(count_dict.values())\n",
    "unique_values"
   ]
  },
  {
   "cell_type": "code",
   "execution_count": 521,
   "id": "76bae7db",
   "metadata": {
    "scrolled": false
   },
   "outputs": [
    {
     "name": "stdout",
     "output_type": "stream",
     "text": [
      "<class 'pandas.core.frame.DataFrame'>\n",
      "Index: 28697 entries, 0 to 31973\n",
      "Data columns (total 15 columns):\n",
      " #   Column              Non-Null Count  Dtype         \n",
      "---  ------              --------------  -----         \n",
      " 0   N                   28697 non-null  int64         \n",
      " 1   Дата                28697 non-null  datetime64[ns]\n",
      " 2   Документ            28697 non-null  object        \n",
      " 3   Счет Дт             28659 non-null  object        \n",
      " 4   Субконто1 Дт        28697 non-null  object        \n",
      " 5   Субконто2 Дт        28697 non-null  object        \n",
      " 6   Субконто3 Дт        28697 non-null  object        \n",
      " 7   Счет Кт             28682 non-null  object        \n",
      " 8   Субконто1 Кт        28697 non-null  object        \n",
      " 9   Субконто2 Кт        28697 non-null  object        \n",
      " 10  Субконто3 Кт        28697 non-null  object        \n",
      " 11  Сумма               28697 non-null  float64       \n",
      " 12  Содержание          28697 non-null  object        \n",
      " 13  Название_документа  28697 non-null  object        \n",
      " 14  Dt_Kt               28697 non-null  object        \n",
      "dtypes: datetime64[ns](1), float64(1), int64(1), object(12)\n",
      "memory usage: 3.5+ MB\n",
      "None\n",
      "<class 'pandas.core.frame.DataFrame'>\n",
      "Index: 29620 entries, 0 to 32808\n",
      "Data columns (total 15 columns):\n",
      " #   Column              Non-Null Count  Dtype         \n",
      "---  ------              --------------  -----         \n",
      " 0   N                   29620 non-null  int64         \n",
      " 1   Дата                29620 non-null  datetime64[ns]\n",
      " 2   Документ            29620 non-null  object        \n",
      " 3   Счет Дт             29533 non-null  object        \n",
      " 4   Субконто1 Дт        29620 non-null  object        \n",
      " 5   Субконто2 Дт        29620 non-null  object        \n",
      " 6   Субконто3 Дт        29620 non-null  object        \n",
      " 7   Счет Кт             29611 non-null  object        \n",
      " 8   Субконто1 Кт        29620 non-null  object        \n",
      " 9   Субконто2 Кт        29620 non-null  object        \n",
      " 10  Субконто3 Кт        29620 non-null  object        \n",
      " 11  Сумма               29620 non-null  float64       \n",
      " 12  Содержание          29620 non-null  object        \n",
      " 13  Название_документа  29620 non-null  object        \n",
      " 14  Dt_Kt               29620 non-null  object        \n",
      "dtypes: datetime64[ns](1), float64(1), int64(1), object(12)\n",
      "memory usage: 3.6+ MB\n",
      "None\n"
     ]
    }
   ],
   "source": [
    "print(df2022.info())\n",
    "print(df2023.info())"
   ]
  },
  {
   "cell_type": "markdown",
   "id": "333604f2",
   "metadata": {},
   "source": [
    "## Тестирование"
   ]
  },
  {
   "cell_type": "markdown",
   "id": "d276e2b1",
   "metadata": {},
   "source": [
    "### Тесты на целостность и баланс данных в журнале"
   ]
  },
  {
   "cell_type": "markdown",
   "id": "66c6c4f2",
   "metadata": {},
   "source": [
    "#### Тест А. Целостность"
   ]
  },
  {
   "cell_type": "markdown",
   "id": "16102e8e",
   "metadata": {},
   "source": [
    "    Цель теста:\n",
    "            Выявить все проводки, где заполнена только одна сторона Дт или Кт."
   ]
  },
  {
   "cell_type": "markdown",
   "id": "bb7ddd37",
   "metadata": {},
   "source": [
    "##### Функция для отбора односторонних операций"
   ]
  },
  {
   "cell_type": "code",
   "execution_count": 522,
   "id": "3420d177",
   "metadata": {},
   "outputs": [],
   "source": [
    "#Функция для отбора односторонних операций и группировки их по счетам и содержанию\n",
    "# на вход журнал проводок, на выходе список проводок и сгруппированная таблица по счетам и документам\n",
    "def process_journal(df):\n",
    "    # Отбор всех односторонних проводок\n",
    "    oneway_trans_dt = df[df['Счет Дт'].notna() & df['Счет Кт'].isna()]\n",
    "    oneway_trans_kt = df[df['Счет Кт'].notna() & df['Счет Дт'].isna()]\n",
    "    oneway_trans = pd.concat([oneway_trans_dt, oneway_trans_kt])\n",
    "    \n",
    "    # Создаем новый столбец 'Вид счета Дт' только для ненулевых значений в 'Счет Дт'\n",
    "    oneway_trans['Вид счета Дт'] = oneway_trans['Счет Дт'].map(lambda x: count_dict[x] if not pd.isnull(x) else None)\n",
    "\n",
    "    # Создаем новый столбец 'Вид счета Кт' только для ненулевых значений в 'Счет Кт'\n",
    "    oneway_trans['Вид счета Кт'] = oneway_trans['Счет Кт'].map(lambda x: count_dict[x] if not pd.isnull(x) else None)\n",
    "\n",
    "    # Затем создаем новый столбец \"Вид счета\", объединяя значения из двух предыдущих столбцов\n",
    "    oneway_trans['Вид счета'] = oneway_trans['Вид счета Дт'].fillna(oneway_trans['Вид счета Кт'])\n",
    "    oneway_trans.drop(columns=['Вид счета Дт','Вид счета Кт'], inplace=True)\n",
    "    \n",
    "    # Создание сводной таблицы для анализа односторонних проводок\n",
    "    oneway_trans_groupdt = oneway_trans.pivot_table(values='Сумма',\n",
    "                                                     index=['Счет Дт','Вид счета', 'Содержание', 'Название_документа'],\n",
    "                                                     aggfunc='sum', dropna=True).reset_index()\n",
    "    oneway_trans_groupdt = oneway_trans_groupdt.rename(\n",
    "        columns={'Счет Дт': 'Счет', 'Вид счета':'Вид счета', \n",
    "                 'Название_документа': 'Название_документа', 'Сумма': 'Оборот Дт', \n",
    "                 'Содержание': 'Содержание операции'})\n",
    "\n",
    "    oneway_trans_groupkt = oneway_trans.pivot_table(values='Сумма',\n",
    "                                                     index=['Счет Кт','Вид счета','Содержание', 'Название_документа'],\n",
    "                                                     aggfunc='sum', dropna=True).reset_index()\n",
    "\n",
    "    oneway_trans_groupkt = oneway_trans_groupkt.rename(\n",
    "        columns={'Счет Кт': 'Счет', 'Вид счета':'Вид счета', \n",
    "                 'Название_документа': 'Название_документа', 'Сумма': 'Оборот Кт', \n",
    "                 'Содержание': 'Содержание операции'})\n",
    "\n",
    "    oneway_trans_group = pd.concat(\n",
    "        [oneway_trans_groupdt, oneway_trans_groupkt])\n",
    "\n",
    "    # Создаем итоговую строку с суммами по каждому столбцу\n",
    "    total_row = pd.DataFrame({\n",
    "        'Счет': ['Итого'],\n",
    "        'Оборот Дт': [oneway_trans_group['Оборот Дт'].sum()],\n",
    "        'Оборот Кт': [oneway_trans_group['Оборот Кт'].sum()]\n",
    "    })\n",
    "\n",
    "    # Добавляем итоговую строку к сводной таблице\n",
    "    oneway_trans_group = pd.concat([oneway_trans_group, total_row], ignore_index=True)\n",
    "        \n",
    "    # перегруппируем колонки\n",
    "    oneway_trans_group = oneway_trans_group[[\n",
    "        'Счет', 'Вид счета', 'Название_документа', 'Оборот Дт', 'Оборот Кт', 'Содержание операции']]\n",
    "\n",
    "    oneway_trans_group['Комментарий аудитора'] = 'Необходимо заполнить'\n",
    "\n",
    "    return oneway_trans_group, oneway_trans"
   ]
  },
  {
   "cell_type": "code",
   "execution_count": 523,
   "id": "2f9752dd",
   "metadata": {},
   "outputs": [],
   "source": [
    "# Применяем функцию к вашему журналу проводок\n",
    "oneway_trans_2022_group, oneway_trans_2022 = process_journal(df2022)\n",
    "oneway_trans_2023_group, oneway_trans_2023 = process_journal(df2023)"
   ]
  },
  {
   "cell_type": "code",
   "execution_count": 524,
   "id": "af6447cf",
   "metadata": {},
   "outputs": [
    {
     "data": {
      "text/html": [
       "<div>\n",
       "<style scoped>\n",
       "    .dataframe tbody tr th:only-of-type {\n",
       "        vertical-align: middle;\n",
       "    }\n",
       "\n",
       "    .dataframe tbody tr th {\n",
       "        vertical-align: top;\n",
       "    }\n",
       "\n",
       "    .dataframe thead th {\n",
       "        text-align: right;\n",
       "    }\n",
       "</style>\n",
       "<table border=\"1\" class=\"dataframe\">\n",
       "  <thead>\n",
       "    <tr style=\"text-align: right;\">\n",
       "      <th></th>\n",
       "      <th>Счет</th>\n",
       "      <th>Вид счета</th>\n",
       "      <th>Название_документа</th>\n",
       "      <th>Оборот Дт</th>\n",
       "      <th>Оборот Кт</th>\n",
       "      <th>Содержание операции</th>\n",
       "      <th>Комментарий аудитора</th>\n",
       "    </tr>\n",
       "  </thead>\n",
       "  <tbody>\n",
       "  </tbody>\n",
       "</table>\n",
       "</div>"
      ],
      "text/plain": [
       "Empty DataFrame\n",
       "Columns: [Счет, Вид счета, Название_документа, Оборот Дт, Оборот Кт, Содержание операции, Комментарий аудитора]\n",
       "Index: []"
      ]
     },
     "metadata": {},
     "output_type": "display_data"
    },
    {
     "name": "stdout",
     "output_type": "stream",
     "text": [
      "<class 'pandas.core.frame.DataFrame'>\n",
      "Index: 96 entries, 4136 to 29164\n",
      "Data columns (total 16 columns):\n",
      " #   Column              Non-Null Count  Dtype         \n",
      "---  ------              --------------  -----         \n",
      " 0   N                   96 non-null     int64         \n",
      " 1   Дата                96 non-null     datetime64[ns]\n",
      " 2   Документ            96 non-null     object        \n",
      " 3   Счет Дт             9 non-null      object        \n",
      " 4   Субконто1 Дт        96 non-null     object        \n",
      " 5   Субконто2 Дт        96 non-null     object        \n",
      " 6   Субконто3 Дт        96 non-null     object        \n",
      " 7   Счет Кт             87 non-null     object        \n",
      " 8   Субконто1 Кт        96 non-null     object        \n",
      " 9   Субконто2 Кт        96 non-null     object        \n",
      " 10  Субконто3 Кт        96 non-null     object        \n",
      " 11  Сумма               96 non-null     float64       \n",
      " 12  Содержание          96 non-null     object        \n",
      " 13  Название_документа  96 non-null     object        \n",
      " 14  Dt_Kt               96 non-null     object        \n",
      " 15  Вид счета           96 non-null     object        \n",
      "dtypes: datetime64[ns](1), float64(1), int64(1), object(13)\n",
      "memory usage: 12.8+ KB\n",
      "None\n",
      "\n"
     ]
    },
    {
     "data": {
      "text/html": [
       "<div>\n",
       "<style scoped>\n",
       "    .dataframe tbody tr th:only-of-type {\n",
       "        vertical-align: middle;\n",
       "    }\n",
       "\n",
       "    .dataframe tbody tr th {\n",
       "        vertical-align: top;\n",
       "    }\n",
       "\n",
       "    .dataframe thead th {\n",
       "        text-align: right;\n",
       "    }\n",
       "</style>\n",
       "<table border=\"1\" class=\"dataframe\">\n",
       "  <thead>\n",
       "    <tr style=\"text-align: right;\">\n",
       "      <th></th>\n",
       "      <th>Счет</th>\n",
       "      <th>Вид счета</th>\n",
       "      <th>Название_документа</th>\n",
       "      <th>Оборот Дт</th>\n",
       "      <th>Оборот Кт</th>\n",
       "      <th>Содержание операции</th>\n",
       "      <th>Комментарий аудитора</th>\n",
       "    </tr>\n",
       "  </thead>\n",
       "  <tbody>\n",
       "  </tbody>\n",
       "</table>\n",
       "</div>"
      ],
      "text/plain": [
       "Empty DataFrame\n",
       "Columns: [Счет, Вид счета, Название_документа, Оборот Дт, Оборот Кт, Содержание операции, Комментарий аудитора]\n",
       "Index: []"
      ]
     },
     "metadata": {},
     "output_type": "display_data"
    },
    {
     "name": "stdout",
     "output_type": "stream",
     "text": [
      "<class 'pandas.core.frame.DataFrame'>\n",
      "Index: 53 entries, 82 to 27749\n",
      "Data columns (total 16 columns):\n",
      " #   Column              Non-Null Count  Dtype         \n",
      "---  ------              --------------  -----         \n",
      " 0   N                   53 non-null     int64         \n",
      " 1   Дата                53 non-null     datetime64[ns]\n",
      " 2   Документ            53 non-null     object        \n",
      " 3   Счет Дт             15 non-null     object        \n",
      " 4   Субконто1 Дт        53 non-null     object        \n",
      " 5   Субконто2 Дт        53 non-null     object        \n",
      " 6   Субконто3 Дт        53 non-null     object        \n",
      " 7   Счет Кт             38 non-null     object        \n",
      " 8   Субконто1 Кт        53 non-null     object        \n",
      " 9   Субконто2 Кт        53 non-null     object        \n",
      " 10  Субконто3 Кт        53 non-null     object        \n",
      " 11  Сумма               53 non-null     float64       \n",
      " 12  Содержание          53 non-null     object        \n",
      " 13  Название_документа  53 non-null     object        \n",
      " 14  Dt_Kt               53 non-null     object        \n",
      " 15  Вид счета           53 non-null     object        \n",
      "dtypes: datetime64[ns](1), float64(1), int64(1), object(13)\n",
      "memory usage: 7.0+ KB\n",
      "None\n"
     ]
    }
   ],
   "source": [
    "# Выведем сгруппированный результат\n",
    "display(oneway_trans_2023_group.head(0))\n",
    "print(oneway_trans_2023.info())\n",
    "print()\n",
    "display(oneway_trans_2022_group.head(0))\n",
    "print(oneway_trans_2022.info())"
   ]
  },
  {
   "cell_type": "markdown",
   "id": "14286943",
   "metadata": {},
   "source": [
    "##### Сохранение в excel "
   ]
  },
  {
   "cell_type": "code",
   "execution_count": 525,
   "id": "a3a9faa1",
   "metadata": {},
   "outputs": [],
   "source": [
    "# Сохраняем данные\n",
    "save_to_excel(oneway_trans_2023_group, 'А_целостность', 2023, oneway_trans_2023)\n",
    "save_to_excel(oneway_trans_2022_group, 'А_целостность', 2022, oneway_trans_2022)"
   ]
  },
  {
   "cell_type": "markdown",
   "id": "f4731080",
   "metadata": {},
   "source": [
    "#### Тест Б. Баланс"
   ]
  },
  {
   "cell_type": "markdown",
   "id": "754873e3",
   "metadata": {},
   "source": [
    "  Цель теста: \n",
    "            Для каждого субсчета из оборотно-сальдовой ведомости (ОСВ) проверить равенство Сальдо на начало +-Обороты = Сальдо конечное."
   ]
  },
  {
   "cell_type": "code",
   "execution_count": 526,
   "id": "f9db0fc2",
   "metadata": {},
   "outputs": [
    {
     "name": "stdout",
     "output_type": "stream",
     "text": [
      "<class 'pandas.core.frame.DataFrame'>\n",
      "RangeIndex: 115 entries, 0 to 114\n",
      "Data columns (total 10 columns):\n",
      " #   Column            Non-Null Count  Dtype  \n",
      "---  ------            --------------  -----  \n",
      " 0   Счет              115 non-null    object \n",
      " 1   Название счета    114 non-null    object \n",
      " 2   Уровень_отч       76 non-null     float64\n",
      " 3   Сн_Дебет          30 non-null     float64\n",
      " 4   Сн_Кредит         33 non-null     float64\n",
      " 5   Оборот_Дт         105 non-null    float64\n",
      " 6   Оборот_Кт         108 non-null    float64\n",
      " 7   Ск_Дебет          35 non-null     float64\n",
      " 8   Ск_Кредит         38 non-null     float64\n",
      " 9   Контроль баланса  1 non-null      float64\n",
      "dtypes: float64(8), object(2)\n",
      "memory usage: 9.1+ KB\n"
     ]
    }
   ],
   "source": [
    "OSV_2022['Контроль баланса'] = OSV_2022['Сн_Дебет'] - \\\n",
    "    OSV_2022['Сн_Кредит']+OSV_2022['Оборот_Дт'] - \\\n",
    "    OSV_2022['Оборот_Кт']-OSV_2022['Ск_Дебет']+OSV_2022['Ск_Кредит']\n",
    "OSV_2022.info()"
   ]
  },
  {
   "cell_type": "code",
   "execution_count": 527,
   "id": "a7f1e0ce",
   "metadata": {
    "scrolled": true
   },
   "outputs": [
    {
     "name": "stdout",
     "output_type": "stream",
     "text": [
      "<class 'pandas.core.frame.DataFrame'>\n",
      "RangeIndex: 119 entries, 0 to 118\n",
      "Data columns (total 10 columns):\n",
      " #   Column            Non-Null Count  Dtype  \n",
      "---  ------            --------------  -----  \n",
      " 0   Счет              119 non-null    object \n",
      " 1   Название счета    118 non-null    object \n",
      " 2   Уровень_отч       81 non-null     float64\n",
      " 3   Сн_Дебет          35 non-null     float64\n",
      " 4   Сн_Кредит         38 non-null     float64\n",
      " 5   Оборот_Дт         102 non-null    float64\n",
      " 6   Оборот_Кт         111 non-null    float64\n",
      " 7   Ск_Дебет          32 non-null     float64\n",
      " 8   Ск_Кредит         36 non-null     float64\n",
      " 9   Контроль баланса  1 non-null      float64\n",
      "dtypes: float64(8), object(2)\n",
      "memory usage: 9.4+ KB\n"
     ]
    }
   ],
   "source": [
    "OSV_2023['Контроль баланса'] = OSV_2023['Сн_Дебет'] - \\\n",
    "    OSV_2023['Сн_Кредит']+OSV_2023['Оборот_Дт'] - \\\n",
    "    OSV_2023['Оборот_Кт']-OSV_2023['Ск_Дебет']+OSV_2023['Ск_Кредит']\n",
    "OSV_2023.info()"
   ]
  },
  {
   "cell_type": "markdown",
   "id": "d3f750ba",
   "metadata": {},
   "source": [
    "##### Сохранение в Excel"
   ]
  },
  {
   "cell_type": "code",
   "execution_count": 528,
   "id": "abaf4cae",
   "metadata": {},
   "outputs": [],
   "source": [
    "save_to_excel(OSV_2023,'Б_Баланс', 2023)\n",
    "save_to_excel(OSV_2022,'Б_Баланс', 2022)"
   ]
  },
  {
   "cell_type": "markdown",
   "id": "dcc84a3f",
   "metadata": {},
   "source": [
    "#### Тест В. Полнота"
   ]
  },
  {
   "cell_type": "markdown",
   "id": "c7024bc0",
   "metadata": {},
   "source": [
    "    Цель теста: \n",
    "            По каждому субсчету сверить обороты из ОСВ с оборотами в журнале операций.            "
   ]
  },
  {
   "cell_type": "markdown",
   "id": "dd5e4307",
   "metadata": {},
   "source": [
    "##### Загружаем ОСВ и исключаем лишние данные"
   ]
  },
  {
   "cell_type": "code",
   "execution_count": 529,
   "id": "ba5259a7",
   "metadata": {},
   "outputs": [
    {
     "name": "stdout",
     "output_type": "stream",
     "text": [
      "<class 'pandas.core.frame.DataFrame'>\n",
      "Index: 76 entries, 1 to 113\n",
      "Data columns (total 4 columns):\n",
      " #   Column       Non-Null Count  Dtype  \n",
      "---  ------       --------------  -----  \n",
      " 0   Счет         76 non-null     object \n",
      " 1   Уровень_отч  76 non-null     float64\n",
      " 2   Оборот_Дт    70 non-null     float64\n",
      " 3   Оборот_Кт    72 non-null     float64\n",
      "dtypes: float64(3), object(1)\n",
      "memory usage: 3.0+ KB\n"
     ]
    }
   ],
   "source": [
    "OSV_2022_drop = OSV_2022[['Счет', 'Уровень_отч', 'Оборот_Дт', 'Оборот_Кт']].query('Уровень_отч ==1')\n",
    "OSV_2022_drop.info()"
   ]
  },
  {
   "cell_type": "code",
   "execution_count": 530,
   "id": "510f7633",
   "metadata": {
    "scrolled": true
   },
   "outputs": [
    {
     "name": "stdout",
     "output_type": "stream",
     "text": [
      "<class 'pandas.core.frame.DataFrame'>\n",
      "Index: 81 entries, 0 to 117\n",
      "Data columns (total 4 columns):\n",
      " #   Column       Non-Null Count  Dtype  \n",
      "---  ------       --------------  -----  \n",
      " 0   Счет         81 non-null     object \n",
      " 1   Уровень_отч  81 non-null     float64\n",
      " 2   Оборот_Дт    69 non-null     float64\n",
      " 3   Оборот_Кт    76 non-null     float64\n",
      "dtypes: float64(3), object(1)\n",
      "memory usage: 3.2+ KB\n"
     ]
    }
   ],
   "source": [
    "OSV_2023_drop = OSV_2023[['Счет', 'Уровень_отч', 'Оборот_Дт', 'Оборот_Кт']].query('Уровень_отч ==1')\n",
    "OSV_2023_drop.info()"
   ]
  },
  {
   "cell_type": "markdown",
   "id": "18cedb44",
   "metadata": {},
   "source": [
    "##### Получаем данные из ЖП и группируем по счетам"
   ]
  },
  {
   "cell_type": "code",
   "execution_count": 531,
   "id": "f8772ee8",
   "metadata": {},
   "outputs": [
    {
     "name": "stdout",
     "output_type": "stream",
     "text": [
      "<class 'pandas.core.frame.DataFrame'>\n",
      "RangeIndex: 74 entries, 0 to 73\n",
      "Data columns (total 3 columns):\n",
      " #   Column     Non-Null Count  Dtype  \n",
      "---  ------     --------------  -----  \n",
      " 0   Счет       74 non-null     object \n",
      " 1   Оборот_Дт  71 non-null     float64\n",
      " 2   Оборот_Кт  73 non-null     float64\n",
      "dtypes: float64(2), object(1)\n",
      "memory usage: 1.9+ KB\n"
     ]
    }
   ],
   "source": [
    "# получем данные их ЖП\n",
    "df2022_dt = df2022.groupby('Счет Дт')['Сумма'].sum().reset_index()\n",
    "df2022_dt = df2022_dt.rename(columns={'Счет Дт':'Счет', 'Сумма':'Оборот_Дт'})\n",
    "df2022_kt = df2022.groupby('Счет Кт')['Сумма'].sum().reset_index()\n",
    "df2022_kt = df2022_kt.rename(columns={'Счет Кт':'Счет', 'Сумма':'Оборот_Кт'})\n",
    "\n",
    "df2022_dt_kt = df2022_dt.merge(df2022_kt, on='Счет', how='outer')\n",
    "df2022_dt_kt.info()"
   ]
  },
  {
   "cell_type": "code",
   "execution_count": 532,
   "id": "3ce1b434",
   "metadata": {},
   "outputs": [
    {
     "name": "stdout",
     "output_type": "stream",
     "text": [
      "<class 'pandas.core.frame.DataFrame'>\n",
      "RangeIndex: 77 entries, 0 to 76\n",
      "Data columns (total 3 columns):\n",
      " #   Column     Non-Null Count  Dtype  \n",
      "---  ------     --------------  -----  \n",
      " 0   Счет       77 non-null     object \n",
      " 1   Оборот_Дт  70 non-null     float64\n",
      " 2   Оборот_Кт  77 non-null     float64\n",
      "dtypes: float64(2), object(1)\n",
      "memory usage: 1.9+ KB\n"
     ]
    }
   ],
   "source": [
    "df2023_dt = df2023.groupby('Счет Дт')['Сумма'].sum().reset_index()\n",
    "df2023_dt = df2023_dt.rename(columns={'Счет Дт':'Счет', 'Сумма':'Оборот_Дт'})\n",
    "df2023_kt = df2023.groupby('Счет Кт')['Сумма'].sum().reset_index()\n",
    "df2023_kt = df2023_kt.rename(columns={'Счет Кт':'Счет', 'Сумма':'Оборот_Кт'})\n",
    "\n",
    "df2023_dt_kt = df2023_dt.merge(df2023_kt, on='Счет', how='outer')\n",
    "df2023_dt_kt.info()"
   ]
  },
  {
   "cell_type": "markdown",
   "id": "34b2231b",
   "metadata": {},
   "source": [
    "##### Объединяем ОСВ и ЖП и рассчитываем дельту в оборотах"
   ]
  },
  {
   "cell_type": "code",
   "execution_count": 533,
   "id": "10f03da2",
   "metadata": {
    "scrolled": false
   },
   "outputs": [
    {
     "name": "stdout",
     "output_type": "stream",
     "text": [
      "<class 'pandas.core.frame.DataFrame'>\n",
      "RangeIndex: 77 entries, 0 to 76\n",
      "Data columns (total 8 columns):\n",
      " #   Column         Non-Null Count  Dtype  \n",
      "---  ------         --------------  -----  \n",
      " 0   Счет           77 non-null     object \n",
      " 1   Уровень_отч    77 non-null     float64\n",
      " 2   Оборот_Дт_ОСВ  77 non-null     float64\n",
      " 3   Оборот_Кт_ОСВ  77 non-null     float64\n",
      " 4   Оборот_Дт_ЖП   77 non-null     float64\n",
      " 5   Оборот_Кт_ЖП   77 non-null     float64\n",
      " 6   Разница Дт     77 non-null     float64\n",
      " 7   Разница Кт     77 non-null     float64\n",
      "dtypes: float64(7), object(1)\n",
      "memory usage: 4.9+ KB\n"
     ]
    }
   ],
   "source": [
    "# объединяем ОСВ и ЖП по признаку Счет и рассчитываем дельты в оборотах\n",
    "completeness_2022 = OSV_2022_drop.merge(\n",
    "    df2022_dt_kt, on='Счет', how='outer', suffixes=('_ОСВ', '_ЖП')).fillna(0).round(2)\n",
    "completeness_2022['Разница Дт'] = completeness_2022['Оборот_Дт_ОСВ'] - \\\n",
    "    completeness_2022['Оборот_Дт_ЖП']\n",
    "completeness_2022['Разница Кт'] = completeness_2022['Оборот_Кт_ОСВ'] - \\\n",
    "    completeness_2022['Оборот_Кт_ЖП']\n",
    "completeness_2022.info()"
   ]
  },
  {
   "cell_type": "code",
   "execution_count": 534,
   "id": "4ca20a6c",
   "metadata": {},
   "outputs": [
    {
     "name": "stdout",
     "output_type": "stream",
     "text": [
      "<class 'pandas.core.frame.DataFrame'>\n",
      "Index: 1 entries, 76 to 76\n",
      "Data columns (total 9 columns):\n",
      " #   Column                Non-Null Count  Dtype  \n",
      "---  ------                --------------  -----  \n",
      " 0   Счет                  1 non-null      object \n",
      " 1   Уровень_отч           1 non-null      float64\n",
      " 2   Оборот_Дт_ОСВ         1 non-null      float64\n",
      " 3   Оборот_Кт_ОСВ         1 non-null      float64\n",
      " 4   Оборот_Дт_ЖП          1 non-null      float64\n",
      " 5   Оборот_Кт_ЖП          1 non-null      float64\n",
      " 6   Разница Дт            1 non-null      float64\n",
      " 7   Разница Кт            1 non-null      float64\n",
      " 8   Комментарий аудитора  1 non-null      object \n",
      "dtypes: float64(7), object(2)\n",
      "memory usage: 80.0+ bytes\n"
     ]
    }
   ],
   "source": [
    "# отбираем все выявленные односторонние проводки\n",
    "completeness_2022_notnull = completeness_2022[(\n",
    "    completeness_2022['Разница Дт'] != 0) | (completeness_2022['Разница Кт'] != 0)]\n",
    "completeness_2022_notnull['Комментарий аудитора'] = 'Необходимо заполнить'\n",
    "\n",
    "completeness_2022_notnull.info()"
   ]
  },
  {
   "cell_type": "code",
   "execution_count": 535,
   "id": "3292a9e8",
   "metadata": {
    "scrolled": true
   },
   "outputs": [
    {
     "name": "stdout",
     "output_type": "stream",
     "text": [
      "<class 'pandas.core.frame.DataFrame'>\n",
      "RangeIndex: 82 entries, 0 to 81\n",
      "Data columns (total 8 columns):\n",
      " #   Column         Non-Null Count  Dtype  \n",
      "---  ------         --------------  -----  \n",
      " 0   Счет           82 non-null     object \n",
      " 1   Уровень_отч    82 non-null     float64\n",
      " 2   Оборот_Дт_ОСВ  82 non-null     float64\n",
      " 3   Оборот_Кт_ОСВ  82 non-null     float64\n",
      " 4   Оборот_Дт_ЖП   82 non-null     float64\n",
      " 5   Оборот_Кт_ЖП   82 non-null     float64\n",
      " 6   Разница Дт     82 non-null     float64\n",
      " 7   Разница Кт     82 non-null     float64\n",
      "dtypes: float64(7), object(1)\n",
      "memory usage: 5.2+ KB\n"
     ]
    }
   ],
   "source": [
    "# объединяем ОСВ и ЖП по признаку Счет и рассчитываем дельты в оборотах\n",
    "completeness_2023 = OSV_2023_drop.merge(\n",
    "    df2023_dt_kt, on='Счет', how='outer', suffixes=('_ОСВ', '_ЖП')).fillna(0).round(2)\n",
    "completeness_2023['Разница Дт'] = completeness_2023['Оборот_Дт_ОСВ'] - \\\n",
    "    completeness_2023['Оборот_Дт_ЖП']\n",
    "completeness_2023['Разница Кт'] = completeness_2023['Оборот_Кт_ОСВ'] - \\\n",
    "    completeness_2023['Оборот_Кт_ЖП']\n",
    "completeness_2023.info()"
   ]
  },
  {
   "cell_type": "code",
   "execution_count": 536,
   "id": "92fee82a",
   "metadata": {},
   "outputs": [
    {
     "name": "stdout",
     "output_type": "stream",
     "text": [
      "<class 'pandas.core.frame.DataFrame'>\n",
      "Index: 1 entries, 81 to 81\n",
      "Data columns (total 9 columns):\n",
      " #   Column                Non-Null Count  Dtype  \n",
      "---  ------                --------------  -----  \n",
      " 0   Счет                  1 non-null      object \n",
      " 1   Уровень_отч           1 non-null      float64\n",
      " 2   Оборот_Дт_ОСВ         1 non-null      float64\n",
      " 3   Оборот_Кт_ОСВ         1 non-null      float64\n",
      " 4   Оборот_Дт_ЖП          1 non-null      float64\n",
      " 5   Оборот_Кт_ЖП          1 non-null      float64\n",
      " 6   Разница Дт            1 non-null      float64\n",
      " 7   Разница Кт            1 non-null      float64\n",
      " 8   Комментарий аудитора  1 non-null      object \n",
      "dtypes: float64(7), object(2)\n",
      "memory usage: 80.0+ bytes\n"
     ]
    }
   ],
   "source": [
    "# отбираем все выявленные односторонние проводки\n",
    "completeness_2023_notnull = completeness_2023[(\n",
    "    completeness_2023['Разница Дт'] != 0) | (completeness_2023['Разница Кт'] != 0)]\n",
    "completeness_2023_notnull['Комментарий аудитора'] = 'Необходимо заполнить'\n",
    "completeness_2023_notnull.info()"
   ]
  },
  {
   "cell_type": "markdown",
   "id": "5613693a",
   "metadata": {},
   "source": [
    "##### Сохранение в excel"
   ]
  },
  {
   "cell_type": "code",
   "execution_count": 537,
   "id": "2224c29c",
   "metadata": {},
   "outputs": [],
   "source": [
    "save_to_excel(completeness_2022_notnull, 'B_полнота', 2022, completeness_2022)\n",
    "save_to_excel(completeness_2023_notnull, 'B_полнота', 2023, completeness_2023)"
   ]
  },
  {
   "cell_type": "markdown",
   "id": "b6905382",
   "metadata": {},
   "source": [
    "### Тесты по анализу отдельных операций"
   ]
  },
  {
   "cell_type": "markdown",
   "id": "8882e2b5",
   "metadata": {},
   "source": [
    "Для корректного анализа операций исключим все операции сделанные регламентными документами"
   ]
  },
  {
   "cell_type": "code",
   "execution_count": 538,
   "id": "5c906726",
   "metadata": {},
   "outputs": [],
   "source": [
    "df2022 = df2022[-df2022['Название_документа'].isin(exception_reg_documents)]\n",
    "df2023 = df2023[-df2023['Название_документа'].isin(exception_reg_documents)]"
   ]
  },
  {
   "cell_type": "markdown",
   "id": "fe2808af",
   "metadata": {},
   "source": [
    "#### Г. Выявление редких проводок"
   ]
  },
  {
   "cell_type": "markdown",
   "id": "f7e2b919",
   "metadata": {},
   "source": [
    "    Цель теста:\n",
    "            Вывести список проводок, количество которых меньше, чем месяцев в аудируемом периоде."
   ]
  },
  {
   "cell_type": "markdown",
   "id": "cb92a50a",
   "metadata": {},
   "source": [
    "##### Функция для отбора редких проводок"
   ]
  },
  {
   "cell_type": "code",
   "execution_count": 539,
   "id": "b70e278a",
   "metadata": {},
   "outputs": [],
   "source": [
    "# функция считает количество всех уникальных проводок и отбирает все, количество которых меньше 12 шт. в год\n",
    "# функция на вход получает df и год\n",
    "\n",
    "def process_rare_transactions(df):    \n",
    "    # Сформируем список вариантов проводок и рассчитаем их количество\n",
    "    Dt_Kt_count = df.groupby(['Dt_Kt'])['N'].count().reset_index()\n",
    "\n",
    "    # Выберем только те варианты проводок, которые встречаются меньше 12 раз за весь год\n",
    "    rare_Dt_Kt = Dt_Kt_count.query('N < 12')\n",
    "\n",
    "    # Отберем из журнала проводки из сформированного списка редких проводок\n",
    "    rare_transactions = df[df['Dt_Kt'].isin(rare_Dt_Kt['Dt_Kt'])]\n",
    "    # Добавляем столбец с комментарием\n",
    "    rare_transactions['Комментарий_аудитора'] = 'Необходимо заполнить'\n",
    "    rare_transactions['Критерий отбора'] = 'Редкая транзакция'\n",
    "\n",
    "    return rare_transactions"
   ]
  },
  {
   "cell_type": "code",
   "execution_count": 540,
   "id": "d375acc8",
   "metadata": {},
   "outputs": [],
   "source": [
    "# формируем список редких проводок\n",
    "rare_transactions_2022 = process_rare_transactions(df2022)\n",
    "rare_transactions_2023 = process_rare_transactions(df2023)"
   ]
  },
  {
   "cell_type": "code",
   "execution_count": 541,
   "id": "8874c9ad",
   "metadata": {
    "scrolled": true
   },
   "outputs": [
    {
     "name": "stdout",
     "output_type": "stream",
     "text": [
      "<class 'pandas.core.frame.DataFrame'>\n",
      "Index: 90 entries, 34 to 82\n",
      "Data columns (total 6 columns):\n",
      " #   Column                Non-Null Count  Dtype  \n",
      "---  ------                --------------  -----  \n",
      " 0   Dt_Kt                 90 non-null     object \n",
      " 1   Название_документа    90 non-null     object \n",
      " 2   Критерий отбора       90 non-null     object \n",
      " 3   Сумма                 90 non-null     float64\n",
      " 4   Количество_проводок   90 non-null     int64  \n",
      " 5   Комментарий_аудитора  90 non-null     object \n",
      "dtypes: float64(1), int64(1), object(4)\n",
      "memory usage: 4.9+ KB\n"
     ]
    },
    {
     "data": {
      "text/plain": [
       "None"
      ]
     },
     "metadata": {},
     "output_type": "display_data"
    },
    {
     "name": "stdout",
     "output_type": "stream",
     "text": [
      "\n",
      "<class 'pandas.core.frame.DataFrame'>\n",
      "Index: 102 entries, 30 to 73\n",
      "Data columns (total 6 columns):\n",
      " #   Column                Non-Null Count  Dtype  \n",
      "---  ------                --------------  -----  \n",
      " 0   Dt_Kt                 102 non-null    object \n",
      " 1   Название_документа    102 non-null    object \n",
      " 2   Критерий отбора       102 non-null    object \n",
      " 3   Сумма                 102 non-null    float64\n",
      " 4   Количество_проводок   102 non-null    int64  \n",
      " 5   Комментарий_аудитора  102 non-null    object \n",
      "dtypes: float64(1), int64(1), object(4)\n",
      "memory usage: 5.6+ KB\n"
     ]
    },
    {
     "data": {
      "text/plain": [
       "None"
      ]
     },
     "metadata": {},
     "output_type": "display_data"
    }
   ],
   "source": [
    "# группируем данные\n",
    "df2022_rare_grouped = group_transaction(rare_transactions_2022)\n",
    "df2023_rare_grouped = group_transaction(rare_transactions_2023)\n",
    "display(df2022_rare_grouped.info())\n",
    "print()\n",
    "display(df2023_rare_grouped.info())"
   ]
  },
  {
   "cell_type": "markdown",
   "id": "739dcf6a",
   "metadata": {},
   "source": [
    "##### Сохранение в excel"
   ]
  },
  {
   "cell_type": "code",
   "execution_count": 542,
   "id": "cdc0e832",
   "metadata": {},
   "outputs": [],
   "source": [
    "save_to_excel(df2022_rare_grouped, 'Г_редкие', 2022, rare_transactions_2022)\n",
    "save_to_excel(df2023_rare_grouped, 'Г_редкие', 2023, rare_transactions_2023)"
   ]
  },
  {
   "cell_type": "markdown",
   "id": "47a2b9d6",
   "metadata": {},
   "source": [
    "#### Тест Д. Поиск по подозрительными описанию операции"
   ]
  },
  {
   "cell_type": "markdown",
   "id": "f0ae08dc",
   "metadata": {},
   "source": [
    "Цель теста:\n",
    "        \n",
    "        Выявить транзакции с подозрительным описанием, а также проводки без описания/с минимальным описанием."
   ]
  },
  {
   "cell_type": "markdown",
   "id": "7fafb909",
   "metadata": {},
   "source": [
    "##### Поиск по подозрительным словам"
   ]
  },
  {
   "cell_type": "code",
   "execution_count": 543,
   "id": "0072be96",
   "metadata": {},
   "outputs": [
    {
     "data": {
      "text/plain": [
       "(9, 17)"
      ]
     },
     "execution_count": 543,
     "metadata": {},
     "output_type": "execute_result"
    }
   ],
   "source": [
    "# Составляем регулярное выражение для поиска любой из указанных частей слова\n",
    "regex_pattern = '|'.join(fishily_keywords)\n",
    "\n",
    "# Выбираем строки, содержащие указанные части слова в любом регистре\n",
    "fishily_rows_2022 = df2022[df2022['Содержание'].str.contains(regex_pattern, case=False)]\n",
    "fishily_rows_2022['Критерий отбора'] = \"подозрительная лексика\"\n",
    "fishily_rows_2022['Комментарий аудитора'] = \"необходимо заполнить\"\n",
    "\n",
    "fishily_rows_2022.shape"
   ]
  },
  {
   "cell_type": "markdown",
   "id": "505fdebb",
   "metadata": {},
   "source": [
    "##### Поиск операций без описания или минимальным описанием"
   ]
  },
  {
   "cell_type": "code",
   "execution_count": 544,
   "id": "c697efc3",
   "metadata": {
    "scrolled": true
   },
   "outputs": [
    {
     "data": {
      "text/plain": [
       "15"
      ]
     },
     "execution_count": 544,
     "metadata": {},
     "output_type": "execute_result"
    }
   ],
   "source": [
    "# посмотрим строки с описанием, в котором меньше 3-х слов\n",
    "min_description_rows = df2022[\n",
    "    (df2022['Содержание'].str.split().apply(len) <= 2)\n",
    "]\n",
    "min_description_rows['Содержание'].nunique()"
   ]
  },
  {
   "cell_type": "code",
   "execution_count": 545,
   "id": "4aff743a",
   "metadata": {},
   "outputs": [],
   "source": [
    "# создадим список исключений из стандартных описаний проводок\n",
    "dict_exceptions = ['Амортизация ОС', \n",
    "                   'Налог на прибыль','Реализация услуг', 'Удержан НДФЛ']"
   ]
  },
  {
   "cell_type": "markdown",
   "id": "3d15962f",
   "metadata": {},
   "source": [
    "##### Функция для выгрузки операций с коротким или подозрительным описанием "
   ]
  },
  {
   "cell_type": "code",
   "execution_count": 546,
   "id": "2fbe70fb",
   "metadata": {},
   "outputs": [],
   "source": [
    "def description_seaching(df, year):\n",
    "\n",
    "    # Составляем регулярное выражение для поиска любой из указанных частей слова\n",
    "    regex_pattern = '|'.join(fishily_keywords)\n",
    "    \n",
    "    # Выбираем строки, содержащие указанные в fishily_keywords слова в любом регистре\n",
    "    fishily_rows = df[df['Содержание'].str.contains(regex_pattern, case=False)].copy()\n",
    "    fishily_rows['Критерий отбора'] = \"лексика\"\n",
    "    fishily_rows['Комментарий аудитора'] = \"необходимо заполнить\"\n",
    "    \n",
    "    # Выбираем строки, содержащие минимальное описание \n",
    "    min_description_rows = df[\n",
    "    (df['Содержание'].str.split().apply(len) <= 2) & \n",
    "    (~df['Содержание'].str.contains('|'.join(dict_exceptions)))]\n",
    "\n",
    "    min_description_rows['Критерий отбора'] = \"нет_описания/минимальное\"\n",
    "    \n",
    "    #объединяем таблицы    \n",
    "    description_tranasation = pd.concat([fishily_rows, min_description_rows])\n",
    "    \n",
    "    # сгруппируем строки description_tranasation\n",
    "    description_tranasation_group = description_tranasation.groupby(\n",
    "        ['Dt_Kt', 'Название_документа', 'Содержание', 'Критерий отбора']\n",
    "    ).agg({'Сумма': ['sum', 'count']}).reset_index()\n",
    "\n",
    "    description_tranasation_group.columns = [\n",
    "        'Dt_Kt', 'Название_документа','Содержание', 'Критерий отбора', 'Сумма', 'Количество_проводок'\n",
    "    ]\n",
    "\n",
    "    # Добавляем столбец с комментарием\n",
    "    description_tranasation_group['Комментарий_аудитора'] = 'Необходимо заполнить'\n",
    "\n",
    "    # Сортируем по сумме и названию документа\n",
    "    description_tranasation_group = description_tranasation_group.sort_values(\n",
    "        by=['Содержание', 'Сумма'], ascending=False)\n",
    "    description_tranasation_group['Сумма'] = description_tranasation_group['Сумма'].round()\n",
    "   \n",
    "    return description_tranasation_group, description_tranasation"
   ]
  },
  {
   "cell_type": "code",
   "execution_count": 547,
   "id": "f0a12984",
   "metadata": {},
   "outputs": [],
   "source": [
    "description_tranasation_group2022, description_tranasation2022 = description_seaching(df2022, 2022)\n",
    "description_tranasation_group2023, description_tranasation2023 = description_seaching(df2023, 2023)"
   ]
  },
  {
   "cell_type": "code",
   "execution_count": 548,
   "id": "e2a17d2f",
   "metadata": {},
   "outputs": [
    {
     "data": {
      "text/plain": [
       "(56, 7)"
      ]
     },
     "execution_count": 548,
     "metadata": {},
     "output_type": "execute_result"
    }
   ],
   "source": [
    "description_tranasation_group2023.shape"
   ]
  },
  {
   "cell_type": "code",
   "execution_count": 549,
   "id": "b3943c8a",
   "metadata": {},
   "outputs": [
    {
     "data": {
      "text/plain": [
       "(38, 7)"
      ]
     },
     "execution_count": 549,
     "metadata": {},
     "output_type": "execute_result"
    }
   ],
   "source": [
    "description_tranasation_group2022.shape"
   ]
  },
  {
   "cell_type": "markdown",
   "id": "cba9ed0e",
   "metadata": {},
   "source": [
    "##### Сохранение в excel"
   ]
  },
  {
   "cell_type": "code",
   "execution_count": 550,
   "id": "59b153c2",
   "metadata": {},
   "outputs": [],
   "source": [
    "save_to_excel(description_tranasation_group2022, 'Д_описание', 2022, description_tranasation2022)\n",
    "save_to_excel(description_tranasation_group2023, 'Д_описание', 2023, description_tranasation2023)"
   ]
  },
  {
   "cell_type": "markdown",
   "id": "66369d03",
   "metadata": {},
   "source": [
    "#### Тест Е. Нерабочие и праздничные дни"
   ]
  },
  {
   "cell_type": "markdown",
   "id": "559e0490",
   "metadata": {},
   "source": [
    "Цель теста:\n",
    "            \n",
    "        Выявить транзакции, сформированные во внерабочее время/дни."
   ]
  },
  {
   "cell_type": "markdown",
   "id": "ef76a1b0",
   "metadata": {},
   "source": [
    "##### Сформируем списки нерабочих и праздничных дней в 2022"
   ]
  },
  {
   "cell_type": "code",
   "execution_count": 551,
   "id": "36a07088",
   "metadata": {},
   "outputs": [
    {
     "data": {
      "text/plain": [
       "DatetimeIndex(['2022-01-01', '2022-01-08', '2022-01-15', '2022-01-22',\n",
       "               '2022-01-29', '2022-02-05', '2022-02-12', '2022-02-19',\n",
       "               '2022-02-26', '2022-03-12',\n",
       "               ...\n",
       "               '2022-10-23', '2022-10-30', '2022-11-06', '2022-11-13',\n",
       "               '2022-11-20', '2022-11-27', '2022-12-04', '2022-12-11',\n",
       "               '2022-12-18', '2022-12-25'],\n",
       "              dtype='datetime64[ns]', length=104, freq=None)"
      ]
     },
     "execution_count": 551,
     "metadata": {},
     "output_type": "execute_result"
    }
   ],
   "source": [
    "# Создание DataFrame с датами на весь 2022 год\n",
    "dates_2022 = pd.date_range(start='2022-01-01', end='2022-12-31')\n",
    "# Список дней исключений, когда выходные были сдвинуты\n",
    "exception_dates_2022 = pd.to_datetime(['2022-03-05']) # даты исключения, если выходные в периоде переносились\n",
    "# Фильтрация дат по субботам и воскресениям\n",
    "saturdays_2022 = dates_2022[dates_2022.dayofweek == 5]  # 5 - это суббота\n",
    "sundays_2022 = dates_2022[dates_2022.dayofweek == 6]  # 6 - это воскресенье\n",
    "all_holidays_2022 = saturdays_2022.append(sundays_2022)\n",
    "all_holidays_2022 = all_holidays_2022[~all_holidays_2022.isin(exception_dates_2022)]\n",
    "all_holidays_2022"
   ]
  },
  {
   "cell_type": "code",
   "execution_count": 552,
   "id": "522bae18",
   "metadata": {},
   "outputs": [],
   "source": [
    "#праздничные дни в периоде\n",
    "public_holidays_2022 = pd.to_datetime(['2022-01-01', '2022-01-02', '2022-01-03',\n",
    "                   '2022-01-04', '2022-01-05', '2022-01-06', \n",
    "                   '2022-01-07', '2022-01-08', '2022-02-23', \n",
    "                   '2022-03-08', '2022-03-07', '2022-05-02',\n",
    "                   '2022-05-03', '2022-05-09', '2022-05-10', \n",
    "                   '2022-06-13', '2022-11-04'])\n",
    "# даты исключения, когда день сокращённый\n",
    "excep_dayes_time_2022 = pd.to_datetime(['2022-03-05', '2022-02-22', '2022-11-03']) "
   ]
  },
  {
   "cell_type": "code",
   "execution_count": 553,
   "id": "c8ea2d22",
   "metadata": {},
   "outputs": [
    {
     "name": "stdout",
     "output_type": "stream",
     "text": [
      "Контроль Ок. Количество рабочих дней в выгрузке равно рабочим дням в календаре\n"
     ]
    },
    {
     "data": {
      "text/plain": [
       "DatetimeIndex(['2022-01-01', '2022-01-08', '2022-01-15', '2022-01-22',\n",
       "               '2022-01-29', '2022-02-05', '2022-02-12', '2022-02-19',\n",
       "               '2022-02-26', '2022-03-12',\n",
       "               ...\n",
       "               '2022-01-07', '2022-02-23', '2022-03-08', '2022-03-07',\n",
       "               '2022-05-02', '2022-05-03', '2022-05-09', '2022-05-10',\n",
       "               '2022-06-13', '2022-11-04'],\n",
       "              dtype='datetime64[ns]', length=118, freq=None)"
      ]
     },
     "execution_count": 553,
     "metadata": {},
     "output_type": "execute_result"
    }
   ],
   "source": [
    "# всего нерабочие дни, количество должно соответствовать данным из рабочего календаря  на соответствующий  период\n",
    "count_noworkdays_2022 = 118  # из рабочего календаря 2022 года\n",
    "all_2022_holidays = all_holidays_2022.append(public_holidays_2022)\n",
    "all_2022_holidays = all_2022_holidays.drop_duplicates()\n",
    "# контроль количества нерабочих дней\n",
    "if count_noworkdays_2022 == len(all_2022_holidays):\n",
    "    print(\"Контроль Ок. Количество рабочих дней в выгрузке равно рабочим дням в календаре\")\n",
    "else:\n",
    "    print(\"Контроль не пройден! Количество рабочих дней в выгрузке не равно рабочим дням в календаре\")\n",
    "all_2022_holidays"
   ]
  },
  {
   "cell_type": "markdown",
   "id": "f3276f74",
   "metadata": {},
   "source": [
    "##### Сформируем списки нерабочих и праздничных дней в 2023"
   ]
  },
  {
   "cell_type": "code",
   "execution_count": 554,
   "id": "c4513eb0",
   "metadata": {},
   "outputs": [
    {
     "data": {
      "text/plain": [
       "DatetimeIndex(['2023-01-07', '2023-01-14', '2023-01-21', '2023-01-28',\n",
       "               '2023-02-04', '2023-02-11', '2023-02-18', '2023-02-25',\n",
       "               '2023-03-04', '2023-03-11',\n",
       "               ...\n",
       "               '2023-10-29', '2023-11-05', '2023-11-12', '2023-11-19',\n",
       "               '2023-11-26', '2023-12-03', '2023-12-10', '2023-12-17',\n",
       "               '2023-12-24', '2023-12-31'],\n",
       "              dtype='datetime64[ns]', length=105, freq=None)"
      ]
     },
     "execution_count": 554,
     "metadata": {},
     "output_type": "execute_result"
    }
   ],
   "source": [
    "# Создание DataFrame с датами на весь 2022 год\n",
    "dates_2023 = pd.date_range(start='2023-01-01', end='2023-12-31')\n",
    "# Список дней исключений, когда выходные были сдвинуты\n",
    "exception_dates_2023 = pd.to_datetime([]) # если суббота или воскресенье сделали рабочим днем\n",
    "# Фильтрация дат по субботам и воскресениям\n",
    "saturdays_2023 = dates_2023[dates_2023.dayofweek == 5]  # 5 - это суббота\n",
    "sundays_2023 = dates_2023[dates_2023.dayofweek == 6]  # 6 - это воскресенье\n",
    "all_holidays_2023 = saturdays_2023.append(sundays_2023)\n",
    "all_holidays_2023 = all_holidays_2023[~all_holidays_2023.isin(exception_dates_2023)]\n",
    "all_holidays_2023"
   ]
  },
  {
   "cell_type": "code",
   "execution_count": 555,
   "id": "9e8c27f2",
   "metadata": {},
   "outputs": [],
   "source": [
    "#праздничные дни в периоде\n",
    "public_holidays_2023 = pd.to_datetime(['2023-01-01', '2023-01-02', '2023-01-03',\n",
    "                   '2023-01-04', '2023-01-05', '2023-01-06', \n",
    "                   '2023-01-07', '2023-01-08', '2023-02-23', '2023-02-24', \n",
    "                   '2023-03-08', '2023-05-01',\n",
    "                   '2023-05-08', '2023-05-09',  \n",
    "                   '2023-06-12', '2023-11-06'])\n",
    "# даты исключения, когда день сокращённый\n",
    "excep_dayes_time_2023 = pd.to_datetime(['2022-03-07', '2022-11-03']) "
   ]
  },
  {
   "cell_type": "code",
   "execution_count": 556,
   "id": "6104ccb7",
   "metadata": {
    "scrolled": false
   },
   "outputs": [
    {
     "name": "stdout",
     "output_type": "stream",
     "text": [
      "Контроль Ок. Количество рабочих дней в выгрузке равно рабочим дням в календаре\n"
     ]
    },
    {
     "data": {
      "text/plain": [
       "DatetimeIndex(['2023-01-07', '2023-01-14', '2023-01-21', '2023-01-28',\n",
       "               '2023-02-04', '2023-02-11', '2023-02-18', '2023-02-25',\n",
       "               '2023-03-04', '2023-03-11',\n",
       "               ...\n",
       "               '2023-01-05', '2023-01-06', '2023-02-23', '2023-02-24',\n",
       "               '2023-03-08', '2023-05-01', '2023-05-08', '2023-05-09',\n",
       "               '2023-06-12', '2023-11-06'],\n",
       "              dtype='datetime64[ns]', length=118, freq=None)"
      ]
     },
     "execution_count": 556,
     "metadata": {},
     "output_type": "execute_result"
    }
   ],
   "source": [
    "# всего нерабочие дни, количество должно соответствовать данным из рабочего календаря  на соответствующий  период\n",
    "count_noworkdays_2023 = 118  # из рабочего календаря 2023 года\n",
    "all_2023_holidays = all_holidays_2023.append(public_holidays_2023)\n",
    "all_2023_holidays = all_2023_holidays.drop_duplicates()\n",
    "# контроль количества нерабочих дней\n",
    "if count_noworkdays_2023 == len(all_2023_holidays):\n",
    "    print(\"Контроль Ок. Количество рабочих дней в выгрузке равно рабочим дням в календаре\")\n",
    "else:\n",
    "    print(\"Контроль не пройден! Количество рабочих дней в выгрузке не равно рабочим дням в календаре\")\n",
    "all_2023_holidays"
   ]
  },
  {
   "cell_type": "code",
   "execution_count": 557,
   "id": "1c6066b1",
   "metadata": {},
   "outputs": [],
   "source": [
    "# словарь с датами исключений продолжительности рабочего дня \n",
    "excep_dayes_times = {\n",
    "    2022: excep_dayes_time_2022,\n",
    "    2023: excep_dayes_time_2023,\n",
    "    \n",
    "}"
   ]
  },
  {
   "cell_type": "markdown",
   "id": "988b3e26",
   "metadata": {},
   "source": [
    "##### Функция для отбора операций созданных в праздничные дни и внерабочее  время"
   ]
  },
  {
   "cell_type": "code",
   "execution_count": 558,
   "id": "2ca5ff3e",
   "metadata": {},
   "outputs": [],
   "source": [
    "def analyze_work_time(df, all_holidays, year):\n",
    "    # Срез по нерабочим дням (праздники)\n",
    "    holidays_transactions = df.query('Дата in @all_holidays')\n",
    "    # Исключаем регламентные документы проводимые во внерабочее время\n",
    "    holidays_transactions = holidays_transactions.query(\n",
    "        'Название_документа not in @exception_reg_documents')\n",
    "    # Добавляем столбец с критерием отбора\n",
    "    holidays_transactions['Критерий отбора'] = \"операция отражена в выходные/праздники\"\n",
    "\n",
    "    # Группируем данные по заданным столбцам\n",
    "    holidays_transactions_group = holidays_transactions.groupby(\n",
    "        ['Dt_Kt', 'Название_документа', 'Критерий отбора']\n",
    "    ).agg({'Сумма': ['sum', 'count']}).reset_index()\n",
    "\n",
    "    # Переименуем столбцы\n",
    "    holidays_transactions_group.columns = [\n",
    "        'Dt_Kt', 'Название_документа', 'Критерий отбора', 'Сумма', 'Количество_проводок']\n",
    "    holidays_transactions_group['Комментарий_аудитора'] = 'Необходимо заполнить'\n",
    "\n",
    "    # срез документов по интервалу нерабочего времени с учетом исключений\n",
    "    time_control_transactions = df[\n",
    "    (\n",
    "        ((df['Дата'].dt.time >= start_time_control) |\n",
    "        (df['Дата'].dt.time <= end_time_control)) & \n",
    "        (~df['Дата'].dt.date.isin(excep_dayes_times[year].date))\n",
    "    ) |\n",
    "    (\n",
    "        (df['Дата'].dt.date.isin(excep_dayes_times[year].date)) &\n",
    "        ((df['Дата'].dt.time <= end_time_control) |\n",
    "        (df['Дата'].dt.time >= start_time_control_extra))\n",
    "        \n",
    "    )\n",
    "    ]\n",
    "\n",
    "    # Исключаем регламентные документы\n",
    "    time_control_transactions = time_control_transactions.query(\n",
    "        'Название_документа not in @exception_reg_documents'\n",
    "    )\n",
    "\n",
    "    # Исключаем операции учтенные ранее в выборке выходных и праздничных дней\n",
    "    time_control_transactions = time_control_transactions.query(\n",
    "        'Дата not in @holidays_transactions[\"Дата\"]'\n",
    "    )\n",
    "\n",
    "    # Добавляем столбец с критерием отбора\n",
    "    time_control_transactions['Критерий отбора'] = \"операция отражена во внерабочее время\"\n",
    "\n",
    "    # Группируем данные по заданным столбцам\n",
    "    time_control_transactions_group = time_control_transactions.groupby(\n",
    "        ['Dt_Kt', 'Название_документа', 'Критерий отбора']\n",
    "    ).agg({'Сумма': ['sum', 'count']}).reset_index()\n",
    "\n",
    "    # Переименуем столбцы\n",
    "    time_control_transactions_group.columns = [\n",
    "        'Dt_Kt', 'Название_документа', 'Критерий отбора', 'Сумма', 'Количество_проводок']\n",
    "\n",
    "    # Добавляем столбец с комментарием\n",
    "    time_control_transactions_group['Комментарий_аудитора'] = 'Необходимо заполнить'\n",
    "\n",
    "    # Объединяем данные по праздникам и по нерабочему времени\n",
    "    noworktime_transactions = pd.concat(\n",
    "        [holidays_transactions, time_control_transactions])\n",
    "    noworktime_transactions_group = pd.concat(\n",
    "        [holidays_transactions_group, time_control_transactions_group]).sort_values(by=['Сумма', 'Название_документа'], \n",
    "                                                                                    ascending=False)\n",
    "\n",
    "    # Возвращаем результат\n",
    "    return noworktime_transactions, noworktime_transactions_group"
   ]
  },
  {
   "cell_type": "code",
   "execution_count": 559,
   "id": "7cf93574",
   "metadata": {},
   "outputs": [],
   "source": [
    "# выгрузим данные\n",
    "noworktime_transactions_2022, noworktime_transactions_group_2022 = analyze_work_time(\n",
    "    df2022, all_2022_holidays, 2022)"
   ]
  },
  {
   "cell_type": "code",
   "execution_count": 560,
   "id": "2c065717",
   "metadata": {},
   "outputs": [],
   "source": [
    "noworktime_transactions_2023, noworktime_transactions_group_2023 = analyze_work_time(\n",
    "    df2023, all_2023_holidays, 2023)"
   ]
  },
  {
   "cell_type": "code",
   "execution_count": 561,
   "id": "5298c479",
   "metadata": {},
   "outputs": [
    {
     "data": {
      "text/plain": [
       "(180, 6)"
      ]
     },
     "execution_count": 561,
     "metadata": {},
     "output_type": "execute_result"
    }
   ],
   "source": [
    "noworktime_transactions_group_2023.shape"
   ]
  },
  {
   "cell_type": "code",
   "execution_count": 562,
   "id": "fef8196b",
   "metadata": {},
   "outputs": [
    {
     "data": {
      "text/plain": [
       "(221, 6)"
      ]
     },
     "execution_count": 562,
     "metadata": {},
     "output_type": "execute_result"
    }
   ],
   "source": [
    "noworktime_transactions_group_2022.shape"
   ]
  },
  {
   "cell_type": "markdown",
   "id": "b74c272d",
   "metadata": {},
   "source": [
    "##### Сохранение в excel"
   ]
  },
  {
   "cell_type": "code",
   "execution_count": 563,
   "id": "95c5719c",
   "metadata": {},
   "outputs": [],
   "source": [
    "save_to_excel(noworktime_transactions_group_2022, 'Е_внерабочие', 2022, noworktime_transactions_2022)"
   ]
  },
  {
   "cell_type": "code",
   "execution_count": 564,
   "id": "c2d35500",
   "metadata": {},
   "outputs": [],
   "source": [
    "save_to_excel(noworktime_transactions_group_2023, 'Е_внерабочие', 2023, noworktime_transactions_2023)"
   ]
  },
  {
   "cell_type": "markdown",
   "id": "1d9d0bd5",
   "metadata": {},
   "source": [
    "#### Тест Ж. Операции выше порога"
   ]
  },
  {
   "cell_type": "markdown",
   "id": "045613b2",
   "metadata": {},
   "source": [
    "Цель теста:\n",
    "            \n",
    "          Выявить транзакции с суммой выше определенного порога."
   ]
  },
  {
   "cell_type": "markdown",
   "id": "5084b166",
   "metadata": {},
   "source": [
    "##### Отбор операций по пороговой сумме"
   ]
  },
  {
   "cell_type": "code",
   "execution_count": 565,
   "id": "04408dcb",
   "metadata": {},
   "outputs": [
    {
     "data": {
      "text/plain": [
       "(167, 16)"
      ]
     },
     "execution_count": 565,
     "metadata": {},
     "output_type": "execute_result"
    }
   ],
   "source": [
    "above_threshold_2022 = df2022.query('Сумма >= @threshold_sum')\n",
    "# Добавляем столбец с критерием отбора\n",
    "above_threshold_2022['Критерий отбора'] = \"сумма операции выше порога\"\n",
    "above_threshold_2022 = above_threshold_2022.query(\n",
    "        'Название_документа not in @exception_reg_documents')\n",
    "above_threshold_2022.shape"
   ]
  },
  {
   "cell_type": "code",
   "execution_count": 566,
   "id": "2f67935e",
   "metadata": {},
   "outputs": [
    {
     "data": {
      "text/plain": [
       "(228, 16)"
      ]
     },
     "execution_count": 566,
     "metadata": {},
     "output_type": "execute_result"
    }
   ],
   "source": [
    "above_threshold_2023 = df2023.query('Сумма >= @threshold_sum')\n",
    "# Добавляем столбец с критерием отбора\n",
    "above_threshold_2023['Критерий отбора'] = \"сумма операции выше порога\"\n",
    "above_threshold_2023 = above_threshold_2023.query(\n",
    "        'Название_документа not in @exception_reg_documents')\n",
    "above_threshold_2023.shape"
   ]
  },
  {
   "cell_type": "code",
   "execution_count": 567,
   "id": "f534de20",
   "metadata": {},
   "outputs": [
    {
     "name": "stdout",
     "output_type": "stream",
     "text": [
      "(29, 6)\n",
      "(30, 6)\n"
     ]
    }
   ],
   "source": [
    "above_threshold_group_2022 = group_transaction(above_threshold_2022)\n",
    "above_threshold_group_2023 = group_transaction(above_threshold_2023)\n",
    "print(above_threshold_group_2022.shape)\n",
    "print(above_threshold_group_2023.shape)"
   ]
  },
  {
   "cell_type": "markdown",
   "id": "b18d5e18",
   "metadata": {},
   "source": [
    "##### Сохранение в excel"
   ]
  },
  {
   "cell_type": "code",
   "execution_count": 568,
   "id": "e41e60f4",
   "metadata": {},
   "outputs": [],
   "source": [
    "save_to_excel(above_threshold_group_2022, 'Ж_выше_порога', 2022, above_threshold_2022)\n",
    "save_to_excel(above_threshold_group_2023,'Ж_выше_порога', 2023, above_threshold_2023)"
   ]
  },
  {
   "cell_type": "markdown",
   "id": "d50dc072",
   "metadata": {},
   "source": [
    "#### Тест З. Операции с отрицательными суммами"
   ]
  },
  {
   "cell_type": "markdown",
   "id": "8555abeb",
   "metadata": {},
   "source": [
    "Цель теста:\n",
    "            \n",
    "        Выявить транзакции с отрицательными значениями."
   ]
  },
  {
   "cell_type": "code",
   "execution_count": 569,
   "id": "0889ce03",
   "metadata": {},
   "outputs": [
    {
     "data": {
      "text/plain": [
       "(920, 16)"
      ]
     },
     "execution_count": 569,
     "metadata": {},
     "output_type": "execute_result"
    }
   ],
   "source": [
    "negative_value_2022 = df2022.query('Сумма < 0')\n",
    "# Добавляем столбец с критерием отбора\n",
    "negative_value_2022['Критерий отбора'] = \"отрицательная сумма\"\n",
    "negative_value_2022 = negative_value_2022.query(\n",
    "        'Название_документа not in @exception_reg_documents')\n",
    "negative_value_2022.shape"
   ]
  },
  {
   "cell_type": "code",
   "execution_count": 570,
   "id": "e7f7dba5",
   "metadata": {},
   "outputs": [
    {
     "data": {
      "text/plain": [
       "(995, 16)"
      ]
     },
     "execution_count": 570,
     "metadata": {},
     "output_type": "execute_result"
    }
   ],
   "source": [
    "negative_value_2023 = df2023.query('Сумма < 0')\n",
    "# Добавляем столбец с критерием отбора\n",
    "negative_value_2023['Критерий отбора'] = \"отрицательная сумма\"\n",
    "negative_value_2023 = negative_value_2023.query(\n",
    "        'Название_документа not in @exception_reg_documents')\n",
    "negative_value_2023.shape"
   ]
  },
  {
   "cell_type": "code",
   "execution_count": 571,
   "id": "93920f16",
   "metadata": {
    "scrolled": true
   },
   "outputs": [
    {
     "name": "stdout",
     "output_type": "stream",
     "text": [
      "(43, 6)\n",
      "(43, 6)\n"
     ]
    }
   ],
   "source": [
    "negative_value_2022_group = group_transaction(negative_value_2022)\n",
    "negative_value_2023_group = group_transaction(negative_value_2023)\n",
    "print(negative_value_2022_group.shape)\n",
    "print(negative_value_2022_group.shape)"
   ]
  },
  {
   "cell_type": "markdown",
   "id": "4440c8f7",
   "metadata": {},
   "source": [
    "##### Сохранение в excel"
   ]
  },
  {
   "cell_type": "code",
   "execution_count": 572,
   "id": "3906b6ef",
   "metadata": {},
   "outputs": [],
   "source": [
    "save_to_excel(negative_value_2023_group, 'З_отриц', 2023, negative_value_2023)\n",
    "save_to_excel(negative_value_2022_group, 'З_отриц', 2022, negative_value_2022)"
   ]
  },
  {
   "cell_type": "markdown",
   "id": "1adcdda3",
   "metadata": {},
   "source": [
    "#### Тест И. Поиск дублей в  операциях"
   ]
  },
  {
   "cell_type": "markdown",
   "id": "c5a0cbe2",
   "metadata": {},
   "source": [
    "Цель теста:\n",
    "            \n",
    "        Выявление дублирующих транзакций, у которых совпадает: дата, счета, вид документа и сумма."
   ]
  },
  {
   "cell_type": "code",
   "execution_count": 573,
   "id": "b1d7ce4b",
   "metadata": {},
   "outputs": [
    {
     "data": {
      "text/plain": [
       "(7524, 16)"
      ]
     },
     "execution_count": 573,
     "metadata": {},
     "output_type": "execute_result"
    }
   ],
   "source": [
    "duplicates_2022 = df2022.copy()\n",
    "duplicates_2022['Дата'] = duplicates_2022['Дата'].dt.date\n",
    "duplicates_2022 = duplicates_2022[duplicates_2022.duplicated(\n",
    "    subset=['Дата', 'Dt_Kt', 'Сумма', 'Название_документа'], keep=False)]\n",
    "duplicates_2022['Критерий отбора'] = \"Имеются дубликаты\"\n",
    "duplicates_2022 = duplicates_2022.query(\n",
    "        'Название_документа not in @exception_reg_documents')\n",
    "duplicates_2022.shape"
   ]
  },
  {
   "cell_type": "code",
   "execution_count": 574,
   "id": "c77d4889",
   "metadata": {},
   "outputs": [
    {
     "data": {
      "text/plain": [
       "(7352, 16)"
      ]
     },
     "execution_count": 574,
     "metadata": {},
     "output_type": "execute_result"
    }
   ],
   "source": [
    "duplicates_2023 = df2023.copy()\n",
    "duplicates_2023['Дата'] = duplicates_2023['Дата'].dt.date\n",
    "duplicates_2023 = duplicates_2023[duplicates_2023.duplicated(\n",
    "    subset=['Дата', 'Dt_Kt', 'Сумма', 'Название_документа'], keep=False)]\n",
    "duplicates_2023['Критерий отбора'] = \"Имеются дубликаты\"\n",
    "duplicates_2023 = duplicates_2023.query(\n",
    "        'Название_документа not in @exception_reg_documents')\n",
    "duplicates_2023.shape"
   ]
  },
  {
   "cell_type": "code",
   "execution_count": 575,
   "id": "d44ee952",
   "metadata": {
    "scrolled": true
   },
   "outputs": [
    {
     "name": "stdout",
     "output_type": "stream",
     "text": [
      "(60, 6)\n",
      "(60, 6)\n"
     ]
    }
   ],
   "source": [
    "duplicates_2022_group = group_transaction(duplicates_2022)\n",
    "duplicates_2023_group = group_transaction(duplicates_2023)\n",
    "print(duplicates_2022_group.shape)\n",
    "print(duplicates_2022_group.shape)"
   ]
  },
  {
   "cell_type": "markdown",
   "id": "e0e6e962",
   "metadata": {},
   "source": [
    "##### Сохранение в excel"
   ]
  },
  {
   "cell_type": "code",
   "execution_count": 576,
   "id": "05f4451b",
   "metadata": {},
   "outputs": [],
   "source": [
    "save_to_excel(duplicates_2022_group, 'И_дубли', 2022, duplicates_2022)\n",
    "save_to_excel(duplicates_2023_group, 'И_дубли', 2023, duplicates_2023)"
   ]
  },
  {
   "cell_type": "markdown",
   "id": "419b6187",
   "metadata": {},
   "source": [
    "#### Тест К. Спец суммы"
   ]
  },
  {
   "cell_type": "markdown",
   "id": "56948280",
   "metadata": {},
   "source": [
    "Цель теста:\n",
    "            \n",
    "         Выявить транзакции со специфическими суммами, кратными 1 млн. руб., или заканчивающиеся на 999 или 999.99"
   ]
  },
  {
   "cell_type": "code",
   "execution_count": 577,
   "id": "97ad1ada",
   "metadata": {},
   "outputs": [
    {
     "data": {
      "text/plain": [
       "(139, 16)"
      ]
     },
     "execution_count": 577,
     "metadata": {},
     "output_type": "execute_result"
    }
   ],
   "source": [
    "special_amount_2022 = df2022[df2022['Сумма']\n",
    "                             .apply(lambda x: (x % 1000000 == 0) \n",
    "                                    or ((x - 999.99) % 1000 == 0) or ((x - 999) % 1000 == 0)\n",
    "                                                   )]\n",
    "special_amount_2022['Критерий отбора'] = \"спец. сумма\"\n",
    "special_amount_2022 = special_amount_2022.query(\n",
    "    'Название_документа not in @exception_reg_documents')\n",
    "special_amount_2022.shape"
   ]
  },
  {
   "cell_type": "code",
   "execution_count": 578,
   "id": "d3c845ce",
   "metadata": {},
   "outputs": [
    {
     "data": {
      "text/plain": [
       "(161, 16)"
      ]
     },
     "execution_count": 578,
     "metadata": {},
     "output_type": "execute_result"
    }
   ],
   "source": [
    "special_amount_2023 = df2023[df2023['Сумма']\n",
    "                             .apply(lambda x: (x % 1000000 == 0) \n",
    "                                    or ((x - 999.99) % 1000 == 0) or ((x - 999) % 1000 == 0)\n",
    "                                                   )]\n",
    "special_amount_2023['Критерий отбора'] = \"спец. сумма\"\n",
    "special_amount_2023 = special_amount_2023.query(\n",
    "    'Название_документа not in @exception_reg_documents')\n",
    "special_amount_2023.shape"
   ]
  },
  {
   "cell_type": "code",
   "execution_count": 579,
   "id": "720d120c",
   "metadata": {},
   "outputs": [
    {
     "name": "stdout",
     "output_type": "stream",
     "text": [
      "(16, 6)\n",
      "(16, 6)\n"
     ]
    }
   ],
   "source": [
    "special_amount_2022_group = group_transaction(special_amount_2022)\n",
    "special_amount_2023_group = group_transaction(special_amount_2023)\n",
    "print(special_amount_2022_group.shape)\n",
    "print(special_amount_2022_group.shape)"
   ]
  },
  {
   "cell_type": "markdown",
   "id": "b00e2a53",
   "metadata": {},
   "source": [
    "##### Сохранение в excel"
   ]
  },
  {
   "cell_type": "code",
   "execution_count": 580,
   "id": "d76815ea",
   "metadata": {},
   "outputs": [],
   "source": [
    "save_to_excel(special_amount_2023_group, 'К_спец', 2023, special_amount_2023)\n",
    "save_to_excel(special_amount_2022_group, 'К_спец', 2022, special_amount_2022)"
   ]
  },
  {
   "cell_type": "markdown",
   "id": "280e0dab",
   "metadata": {},
   "source": [
    "## Выводы"
   ]
  },
  {
   "cell_type": "markdown",
   "id": "6da720ca",
   "metadata": {},
   "source": [
    "    В рамках первой части работы по загрузке и предобработке данных было сделано:\n",
    "        1. загружены журналы операций, план-счетов и оборотно-сальдовые ведомости\n",
    "        2. подготовлены общие функции для группировки и сохранения выгрузок в едином формате.\n",
    "        3. скорректированы типы колонок\n",
    "        4. добавлены колонки с дополнительной аналитикой (выделены названия документов, и комбинации проводок)\n",
    "        5. установлены общие переменные (пороговая сумма, рабочие часы, список документов исключений, список подозрительных слов);\n",
    "        6. заполнены пропуски в аналитиках на \"нет описания\".\n",
    "        7. удалены ненужные колонки.\n",
    "     \n",
    "    Во второй части работы подготовлено 10 тестов с соответствии с технических заданием.\n",
    "    В результате выгружается 20 файлов (10 по каждому году), в которых по 2 таблицы, в первой таблице отражается сгруппированный список транзакций, а во второй полный список, если необходима более детальная информация из журнала транзакций.   "
   ]
  },
  {
   "cell_type": "code",
   "execution_count": null,
   "id": "48489156",
   "metadata": {},
   "outputs": [],
   "source": []
  }
 ],
 "metadata": {
  "kernelspec": {
   "display_name": "Python 3 (ipykernel)",
   "language": "python",
   "name": "python3"
  },
  "language_info": {
   "codemirror_mode": {
    "name": "ipython",
    "version": 3
   },
   "file_extension": ".py",
   "mimetype": "text/x-python",
   "name": "python",
   "nbconvert_exporter": "python",
   "pygments_lexer": "ipython3",
   "version": "3.9.18"
  },
  "toc": {
   "base_numbering": 1,
   "nav_menu": {},
   "number_sections": true,
   "sideBar": true,
   "skip_h1_title": true,
   "title_cell": "Содержание",
   "title_sidebar": "Contents",
   "toc_cell": true,
   "toc_position": {
    "height": "calc(100% - 180px)",
    "left": "10px",
    "top": "150px",
    "width": "270.011px"
   },
   "toc_section_display": true,
   "toc_window_display": true
  }
 },
 "nbformat": 4,
 "nbformat_minor": 5
}
